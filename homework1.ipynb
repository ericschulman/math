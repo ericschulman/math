{
 "cells": [
  {
   "cell_type": "code",
   "execution_count": 19,
   "metadata": {},
   "outputs": [
    {
     "ename": "TypeError",
     "evalue": "TypeError: in typeassert, expected Float64, got Int64",
     "output_type": "error",
     "traceback": [
      "TypeError: in typeassert, expected Float64, got Int64",
      "",
      "Stacktrace:",
      " [1] top-level scope at In[19]:6"
     ]
    }
   ],
   "source": [
    "using LinearAlgebra\n",
    "\n",
    "\n",
    "\n",
    "a = 1\n",
    "cond( [1 a::Float64; 1 1], p=Real::Inf)"
   ]
  },
  {
   "cell_type": "code",
   "execution_count": 75,
   "metadata": {
    "scrolled": false
   },
   "outputs": [
    {
     "name": "stdout",
     "output_type": "stream",
     "text": [
      "a: -1.0\n",
      "norm: 2.0\n",
      "inv norm: 1.0\n",
      "k: (2.0, 2.0)\n",
      "-------- \n",
      "a: -0.5\n",
      "norm: 2.0\n",
      "inv norm: 1.3333333333333333\n",
      "k: (2.0, 2.6666666666666665)\n",
      "-------- \n",
      "a: 0.0\n",
      "norm: 2.0\n",
      "inv norm: 2.0\n",
      "k: (3.3333333333333335, 4.0)\n",
      "-------- \n",
      "a: 0.5\n",
      "norm: 2.0\n",
      "inv norm: 4.0\n",
      "k: (8.0, 8.0)\n",
      "-------- \n",
      "a: 1.5\n",
      "norm: 2.5\n",
      "inv norm: 5.0\n",
      "k: (12.5, 12.5)\n",
      "-------- \n"
     ]
    }
   ],
   "source": [
    "using LinearAlgebra\n",
    "\n",
    "function test_cond(a)\n",
    "    M = [1. a ; 1. 1.]\n",
    "    \n",
    "    print( \"norm: \", opnorm(M,Inf), '\\n' )\n",
    "    print( \"inv norm: \", opnorm(inv(M),Inf), '\\n')\n",
    "    return cond(M, Inf),  opnorm(inv(M),Inf)*opnorm(M,Inf) \n",
    "end \n",
    "\n",
    "\n",
    "for j = -2:3\n",
    "    j = j*.5\n",
    "    if j != 1\n",
    "        print(\"a: \", j, '\\n')\n",
    "        print(\"k: \", test_cond(j), '\\n')\n",
    "        print(\"-------- \\n\")\n",
    "    end\n",
    "end"
   ]
  },
  {
   "cell_type": "code",
   "execution_count": null,
   "metadata": {},
   "outputs": [],
   "source": []
  }
 ],
 "metadata": {
  "kernelspec": {
   "display_name": "Julia 1.0.4",
   "language": "julia",
   "name": "julia-1.0"
  },
  "language_info": {
   "file_extension": ".jl",
   "mimetype": "application/julia",
   "name": "julia",
   "version": "1.0.4"
  }
 },
 "nbformat": 4,
 "nbformat_minor": 2
}
