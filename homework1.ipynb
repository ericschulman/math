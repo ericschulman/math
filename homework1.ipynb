{
 "cells": [
  {
   "cell_type": "markdown",
   "metadata": {},
   "source": [
    "# Eric Schulman\n",
    "# Homework 1 - Math 387c"
   ]
  },
  {
   "cell_type": "code",
   "execution_count": 1,
   "metadata": {},
   "outputs": [
    {
     "name": "stdout",
     "output_type": "stream",
     "text": [
      "\u001b[32m\u001b[1m  Updating\u001b[22m\u001b[39m registry at `~/.julia/registries/General`\n",
      "\u001b[32m\u001b[1m  Updating\u001b[22m\u001b[39m git-repo `https://github.com/JuliaRegistries/General.git`\n",
      "\u001b[?25l\u001b[2K\u001b[?25h\u001b[32m\u001b[1m Resolving\u001b[22m\u001b[39m package versions...\n",
      "\u001b[32m\u001b[1m  Updating\u001b[22m\u001b[39m `~/.julia/environments/v1.0/Project.toml`\n",
      "\u001b[90m [no changes]\u001b[39m\n",
      "\u001b[32m\u001b[1m  Updating\u001b[22m\u001b[39m `~/.julia/environments/v1.0/Manifest.toml`\n",
      "\u001b[90m [no changes]\u001b[39m\n"
     ]
    },
    {
     "name": "stderr",
     "output_type": "stream",
     "text": [
      "┌ Info: Precompiling PyPlot [d330b81b-6aea-500a-939a-2ce795aea3ee]\n",
      "└ @ Base loading.jl:1192\n"
     ]
    }
   ],
   "source": [
    "using Pkg\n",
    "Pkg.add(\"PyPlot\")\n",
    "\n",
    "using PyPlot\n",
    "using LinearAlgebra"
   ]
  },
  {
   "cell_type": "markdown",
   "metadata": {},
   "source": [
    "# Question 1\n",
    "## Part A\n",
    "\n",
    "The absolute error is given by $| x - \\hat{x}|  = .04$.\n",
    "\n",
    "The relative error is $| x-\\hat{x}|/\\hat{x}  = .04/3.14 = 0.01$.\n",
    "\n",
    "There are 2 significant digits.\n",
    "\n",
    "## Part B\n",
    "$\\hat{z} = 5(\\hat{x} - 3\\hat{y})$\n",
    "\n",
    "$\\hat{z} = 5((x\\pm \\delta_1) - 3(y \\pm \\delta_2))$\n",
    "\n",
    "$\\hat{z} = 5(x-3y) + 5(\\delta_1 - 3\\delta_2)$\n",
    "\n",
    "As a result, the absolute error is $5(.04 + 3 \\times .01) = 0.35$\n",
    "\n",
    "and the relative error is $ \\left| \\dfrac{ 5(.04 + 3 \\times .01) }{5(3.14 - 3\\times1.23)} \\right| = .12 $\n",
    "\n",
    "Again, 2 significant digits"
   ]
  },
  {
   "cell_type": "markdown",
   "metadata": {},
   "source": [
    "# Question 2\n",
    "\n",
    "$A^T = ((I+B)(I-B)^{-1})^T$\n",
    "\n",
    "$A^T = ((I-B)^{-1})^T(I+B)^T$\n",
    "\n",
    "$A^T = ((I-B^T))^{-1}(I+B^T)$\n",
    "\n",
    "$A^T = (I+B^{-1})(I+B^T)$\n",
    "\n",
    "$A^T = I + B^{-1} + B^T + B^{-1} B^T$\n",
    "\n",
    "$A^T = I + B^{-1} + B^T - I$\n",
    "\n",
    "$A^T = I + B^{-1} + B^T + B^T B^{-1}$\n",
    "\n",
    "$A^T = (I + B^T)(I+B)^{-1}$\n",
    "\n",
    "$A^T = ((I-B)^{-1})^{-1}(I+B)^{-1}$\n",
    "\n",
    "$A^T = A^{-1}$"
   ]
  },
  {
   "cell_type": "markdown",
   "metadata": {},
   "source": [
    "# Question 3\n",
    "\n",
    "$K_{\\infty}(A) = || A ||_{\\infty} ||A^{-1}||_{\\infty}$\n",
    "\n",
    "$|| A ||_{\\infty} = \\text{max}_j \\sum_{i=1}^n | a_{ij} | = \\text{max}(1 + |a|, 2)$\n",
    "\n",
    "$|| A^{-1} ||_{\\infty} = \\text{max}_j \\sum_{i=1}^n | a_{ij} | = \\text{max}\\left(\\left|\\dfrac{1}{1-a} \\right| + \\left| \\dfrac{a}{1-a} \\right|, 2\\left|\\dfrac{1}{1-a} \\right|\\right) = \\left|\\dfrac{1}{1-a} \\right| \\text{max}(1+|a|,2)$ \n",
    "\n",
    "So, assuming $a\\neq 0$,\n",
    "\n",
    "$K_{\\infty}(A) = \\left|\\dfrac{1}{1-a} \\right| \\text{max}(1 + |a|, 2)$"
   ]
  },
  {
   "cell_type": "markdown",
   "metadata": {},
   "source": [
    "## Question 4\n",
    "\n",
    "\n",
    "We know that it will be thecase that still be the case that\n",
    "\n",
    "$ \\text{max}_i |a_{ij}| \\leq  \\sum_i |a_{ij}|$\n",
    "\n",
    "Further it will still hold for \n",
    "\n",
    "$ \\text{max}_i |a_{ij}| \\leq \\text{max}_{j} \\sum_i |a_{ij}|$\n",
    "\n",
    "Summing over columns it must be the case that\n",
    "\n",
    "$ \\sum_j \\text{max}_i |a_{ij}| \\leq  n \\text{max}_{j} \\sum_i |a_{ij}|$\n",
    "\n",
    "\n",
    "$  || A ||_1 \\leq n || A ||_{\\infty}$\n",
    "\n",
    "So,\n",
    "\n",
    "$  || A ||_1  || A^{-1} ||_1 \\leq n^2 || A ||_{\\infty} || A^{-1} ||_{\\infty}$\n",
    "\n",
    "$  K( A)_1  \\leq n^2 K(A)_{\\infty} $\n",
    "\n",
    "$  \\dfrac{1}{n^2} K_1( A)  \\leq K(A)_{\\infty} $\n",
    "\n",
    "\n",
    "To show the other size of the inequality we can flip the indexes.\n",
    "\n",
    "$ \\text{max}_j |a_{ij}| \\leq  \\sum_j |a_{ij}|$\n",
    "\n",
    "As a result,\n",
    "\n",
    "$ \\sum_i \\text{max}_j |a_{ij}| \\leq n \\text{max}_{i} \\sum_j |a_{ij}|$\n",
    "\n",
    "So, it follows that\n",
    "\n",
    "$ n  || A ||_1 \\leq || A ||_{\\infty}$\n",
    "\n",
    "And,\n",
    "\n",
    "$  {n^2} K_1( A)  \\geq K(A)_{\\infty} $\n"
   ]
  },
  {
   "cell_type": "markdown",
   "metadata": {},
   "source": [
    "Question 5"
   ]
  },
  {
   "cell_type": "markdown",
   "metadata": {},
   "source": [
    "Question 6"
   ]
  },
  {
   "cell_type": "code",
   "execution_count": 76,
   "metadata": {},
   "outputs": [
    {
     "name": "stdout",
     "output_type": "stream",
     "text": [
      "([1.0 0.0 0.0; 0.0 1.0 0.0; 0.0 0.0 1.0], [1.5, 0.5, -0.5])\n",
      "[1.5, 0.5, -0.5]"
     ]
    }
   ],
   "source": [
    "function guassian_elim(A,b)\n",
    "    \n",
    "    A = float(hcat(A, b))\n",
    "    \n",
    "    #get the upper triangular matrix\n",
    "    for i= 1:size(A,1)\n",
    "        A_top = A[1:i-1,:]\n",
    "        A_row = A[i,:]\n",
    "        A_bot = A[i+1:size(A,1),:]\n",
    "\n",
    "        for j=1:size(A_bot,1)\n",
    "            A_bot_row = A_bot[j,:]\n",
    "            multiply = A_bot_row[i]/A_row[i]\n",
    "            A_bot[j,:] = A_bot_row - A_row*multiply\n",
    "        end\n",
    "        \n",
    "        A[1:i-1,:] = A_top\n",
    "        A[i,:] = A_row\n",
    "        A[i+1:size(A,1),:] = A_bot\n",
    "    end\n",
    "    \n",
    "    #simplify the matrix by plugging in\n",
    "    for i= 1:size(A,1)\n",
    "        \n",
    "        i = size(A,1)-i +1 #start at the bottom, now we here\n",
    "        \n",
    "        A_top = A[1:i-1,:]\n",
    "        A_row = A[i,:]\n",
    "        A_bot = A[i+1:size(A,1),:]\n",
    "        \n",
    "        for j=1:size(A_top,1)\n",
    "            A_top_row = A_top[j,:]\n",
    "            multiply = A_top_row[i]/A_row[i]\n",
    "            A_top[j,:] = A_top_row - A_row*multiply\n",
    "        end\n",
    "\n",
    "        A[1:i-1,:] = A_top\n",
    "        A[i,:] = A_row\n",
    "        A[i+1:size(A,1),:] = A_bot\n",
    "    end\n",
    "    \n",
    "    #normalize rows to 1\n",
    "    for i= 1:size(A,1)\n",
    "        A[i,:] = 1/A[i,i]*A[i,:]\n",
    "    end\n",
    "    \n",
    "    return(A[:,1:size(A,2)-1], A[:,size(A,2)])\n",
    "    \n",
    "end\n",
    "\n",
    "\n",
    "A = [1 0 1; 1 2 3 ; 2 1 5]\n",
    "b = [1 ;1 ;1]\n",
    "\n",
    "println(guassian_elim(A,b))\n",
    "\n",
    "print(inv(A) * b)"
   ]
  },
  {
   "cell_type": "code",
   "execution_count": 11,
   "metadata": {},
   "outputs": [
    {
     "data": {
      "image/png": "[encoded data removed]",
      "text/plain": [
       "Figure(PyObject <Figure size 640x480 with 1 Axes>)"
      ]
     },
     "metadata": {},
     "output_type": "display_data"
    },
    {
     "name": "stdout",
     "output_type": "stream",
     "text": [
      "[1, 2, 3][1, 2, 3][1, 2, 3][1, 2, 3][1, 2, 3][1, 2, 3][1, 2, 3][1, 2, 3][1, 2, 3][1, 2, 3][1, 2, 3][1, 2, 3][1, 2, 3][1, 2, 3][1, 2, 3][1, 2, 3][1, 2, 3][1, 2, 3][1, 2, 3][1, 2, 3][1, 2, 3][1, 2, 3][1, 2, 3][1, 2, 3][1, 2, 3][1, 2, 3][1, 2, 3][1, 2, 3][1, 2, 3][1, 2, 3][1, 2, 3][1, 2, 3][1, 2, 3][1, 2, 3][1, 2, 3][1, 2, 3][1, 2, 3][1, 2, 3][1, 2, 3][1, 2, 3][1.51045, 0.521485, -0.49057]"
     ]
    }
   ],
   "source": [
    "using PyPlot\n",
    "using LinearAlgebra\n",
    "\n",
    "function jacobi(A,b,iter)\n",
    "    A = float(A)\n",
    "    \n",
    "    D = Diagonal(A)\n",
    "    R = A - D\n",
    "    D_inv = inv(D)\n",
    "    \n",
    "    sol = b\n",
    "    \n",
    "    for i = 1:iter\n",
    "        sol = D_inv*(b- R*sol)\n",
    "        if i% 10 == 0\n",
    "            plot(collect(1:size(sol,1)) , sol, label= \"Iteration $(i)\")\n",
    "        end\n",
    "    end \n",
    "    plt.legend()\n",
    "    return sol\n",
    "end \n",
    "\n",
    "\n",
    "J = 20\n",
    "#create A\n",
    "\n",
    "#create b\n",
    "\n",
    "\n",
    "print(jacobi(A,b,40))"
   ]
  },
  {
   "cell_type": "code",
   "execution_count": null,
   "metadata": {},
   "outputs": [],
   "source": [
    "\n",
    "function cholesky(A)\n",
    "end\n"
   ]
  }
 ],
 "metadata": {
  "kernelspec": {
   "display_name": "Julia 1.0.3",
   "language": "julia",
   "name": "julia-1.0"
  },
  "language_info": {
   "file_extension": ".jl",
   "mimetype": "application/julia",
   "name": "julia",
   "version": "1.0.3"
  }
 },
 "nbformat": 4,
 "nbformat_minor": 2
}
