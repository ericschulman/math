{
 "cells": [
  {
   "cell_type": "markdown",
   "metadata": {},
   "source": [
    "# Question 1\n",
    "\n",
    "## Part a\n",
    "\n",
    "$u_{xy} = \\dfrac{ (u_y)_{i+1,j}^n - (u_x)_{i-1,j}^n}{2 \\Delta x} + O(\\Delta x^2)^2$\n",
    "\n",
    "$(u_y)_{i+1,j} = \\dfrac{u_{i+1,j+1} - u_{i+1,j-1}{2\\Delta y} + O(\\Delta y^2)$\n",
    "\n",
    "$(u_x)_{i-1,j} = \\dfrac{u_{i-1,j+1} - u_{i-1,j-1}}{2\\Delta x} + O(\\Delta x^2)$\n",
    "\n",
    "So, we have the divided difference approximation\n",
    "\n",
    "\n",
    "$u_{xy} = \\dfrac{u_{i+1,j+1}^n -u_{i+1,j-1}^n - u_{i-1,j+1}^n - u_{i-1,j-1}^n}{4 \\Delta x \\Delta y}$\n",
    "\n",
    "## Part b\n",
    "\n",
    "$(a(x) u_x)_x = a_x(x) u_x + a(x) u_{xx}$\n",
    "\n",
    "$u_x = \\dfrac{u_{j+1}^n - u_{j-1}^n}{2 \\Delta x} + O(\\Delta x^2)$\n",
    "\n",
    "$u_{xx} = \\dfrac{u_{j+1}^n -2 u_j^n - u_{j-1}^n}{2\\Delta x} + O(\\Delta x^2)$\n",
    "\n",
    "So, $(a(x) u_x)_x = a_x(x)\\left( \\dfrac{u_{j+1}^n - u_{j-1}^n }{2 \\Delta x} \\right) + a(x) \\dfrac{ u_{j+1}^n - 2 u_j^n -  u_{j-1}^n }{2 \\Delta x} + O(\\Delta x^2) $\n",
    "\n",
    "$u_{j-1}^n = u - \\Delta x u_x + \\dfrac{\\Delta x^2} {2} u_{xx} - \\dfrac{ \\Delta x^3}{6} u_{3x} + \\dfrac{\\Delta x^4}{24} u_{4x} - \\dfrac{\\Delta x^5}{120} u_{5x} + O(\\Delta x^6)$ \n",
    "\n",
    "\n",
    "$u_{j+1}^n = u + \\Delta x u_x + \\dfrac{\\Delta x^2} {2} u_{xx} + \\dfrac{ \\Delta x^3}{6} u_{3x} + \\dfrac{\\Delta x^4}{24} u_{4x} + \\dfrac{\\Delta x^5}{120} u_{5x} + O(\\Delta x^6)$ \n",
    "\n",
    "\n",
    "$u_{j-2}^n = u - 2 \\Delta x u_x +  2 {\\Delta x^2} u_{xx} - \\dfrac{4}{3} {\\Delta x^3}u_{3x} + \\dfrac{2}{3}{\\Delta x^4} u_{4x} - \\dfrac{15}{4} {\\Delta x^5} u_{5x} + O(\\Delta x^6)$ \n",
    "\n",
    "$u_{j+2}^n = u + 2 \\Delta x u_x +  2 {\\Delta x^2} u_{xx} + \\dfrac{4}{3} {\\Delta x^3}u_{3x} - \\dfrac{2}{3}{\\Delta x^4} u_{4x} + \\dfrac{15}{4} {\\Delta x^5} u_{5x} + O(\\Delta x^6)$ \n",
    "\n",
    "\n",
    "## Part c\n",
    "\n",
    "Fourth order approximiation of $u_x$ is \n",
    "\n",
    "$\\dfrac{u_{j+1}-u_{j-1}}{2 \\Delta x} = u_x + \\dfrac{1}{6} \\Delta x^2 u_{3x} +  \\dfrac{1}{120} \\Delta x^4 u_{5x} + 2 O(\\Delta x^6) $\n",
    "\n",
    "$\\dfrac{u_{j+2}-u_{j-2}}{2 \\Delta x} = u_x + \\dfrac{2}{3} \\Delta x^2 u_{3x} + C_1 \\Delta x^4 u_{5x} + 2 O(\\Delta x^6)$\n",
    "\n",
    "$u_x = \\left(\\dfrac{4(u_{j+1} - u_{j-1}}{2 \\Delta x} + \\dfrac{-1(u_{j+2} - u_{j-2})}{4 \\Delta x} \\right) /3 + O(\\Delta x^4)$\n",
    "\n",
    "\n",
    "$u_x = \\dfrac{8(u_{j+1} - u_{j-1}) + u_{j+2} - u_{j-2}}{12 \\Delta x} + O(\\Delta x^4)$\n",
    "\n",
    "\n",
    "## Part d\n",
    "\n",
    "$\\dfrac{u_{j+1}^n - 2 u_j + u_{j-1}^n }{\\Delta x^2 } = u_{xx} + \\dfrac{\\Delta x^2 }{12} u_{4x} + O(2 \\Delta x^4)$\n",
    "\n",
    "\n",
    "$\\dfrac{u_{j+2}^n - 2 u_j + u_{j-2}^n }{4 \\Delta x^2 } = u_{xx} + \\dfrac{\\Delta x^2 }{3} u_{4x} + O(2 \\Delta x^4)$\n",
    "\n",
    "$u_{xx} = \\dfrac{-u_{j+2}^n + 16 u_{j+1}^n - 30 u_j^n +16 u_{j-1}^n - u_{j-2}^n }{12 \\Delta x^2} + O(\\Delta x^4)$\n",
    "\n"
   ]
  },
  {
   "cell_type": "markdown",
   "metadata": {},
   "source": [
    "# Question 2\n",
    "\n",
    "\n",
    "## Part a\n",
    "$u_j^{n+1} = \\left( 1 - \\dfrac{a \\Delta t}{\\Delta x} - \\Delta t b(x_j) \\right) u_j^n + \\dfrac{a \\Delta t}{\\Delta x} u_{j-1}^n$\n",
    "\n",
    "\n",
    "$\\dfrac{u+ \\Delta t u_t + \\Delta t^2 u_{tt}/2 + O(\\Delta t^3) - u }{\\Delta t } = a \\left( \\dfrac{u - \\Delta x u_x + \\Delta x^2 u_{xx}/2 + O(\\Delta x^3) - u }{\\Delta x}\\right) - b(x_j) u_j^n$\n",
    "\n",
    "$u_t + \\Delta t /2 u_{tt} + O(\\Delta t) + a u_x - \\Delta x u_xx/2 - b(x_j) u_j^n =0$\n",
    "\n",
    "$u_t + \\Delta t /2 u_{tt} + O(\\Delta t) = au_x - \\Delta x/2 u_{xx} - b(x_j) u_j^n = 0$\n",
    "\n",
    "Applying PDE $u_t a u_x + b(x) u =0$ we have that $O(\\Delta t + a \\Delta x)$\n",
    "\n",
    "\n",
    "## Part b\n",
    "\n",
    "\n",
    "\n",
    "## Part c\n"
   ]
  },
  {
   "cell_type": "markdown",
   "metadata": {},
   "source": [
    "# Question 3\n",
    "\n",
    "## Part a\n",
    "\n",
    "$u_j^{n+1} = u_j^{n-1} + 2 z \\left( u_{j+1}^n - u^{n+1}_j - u_j^{n-1} + u_{j-1}^n \\right)$\n",
    "\n",
    "$ = u_j^{n+1} = \\dfrac{1-2z}{1+2z) \\hat{u}_j^{n+1} + \\dfrac{4 cos(\\xi) \\hat{u}_j^n}{1+2z} \\hat{u}_j^n%\n",
    "\n",
    "$a(\\xi)^{n+1} \\hat{u}^0_j = \\dfrac{1-2z}{1+ 2z} (a(\n",
    "\n",
    "## Part b"
   ]
  },
  {
   "cell_type": "markdown",
   "metadata": {},
   "source": [
    "# Question 4"
   ]
  },
  {
   "cell_type": "markdown",
   "metadata": {},
   "source": [
    "# Question 5"
   ]
  },
  {
   "cell_type": "markdown",
   "metadata": {},
   "source": [
    "# Question 6"
   ]
  },
  {
   "cell_type": "code",
   "execution_count": null,
   "metadata": {},
   "outputs": [],
   "source": []
  }
 ],
 "metadata": {
  "kernelspec": {
   "display_name": "Julia 1.0.3",
   "language": "julia",
   "name": "julia-1.0"
  },
  "language_info": {
   "file_extension": ".jl",
   "mimetype": "application/julia",
   "name": "julia",
   "version": "1.0.3"
  }
 },
 "nbformat": 4,
 "nbformat_minor": 2
}
