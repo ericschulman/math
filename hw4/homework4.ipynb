{
 "cells": [
  {
   "cell_type": "markdown",
   "metadata": {},
   "source": [
    "# Question 1\n",
    "\n",
    "The first order necessary condition is\n",
    "\n",
    "$ \\nabla f(x) =0$\n",
    "\n",
    "We can solve this using Newton's method which has quadratic convergence"
   ]
  },
  {
   "cell_type": "markdown",
   "metadata": {},
   "source": [
    "# Question 2\n",
    "\n",
    "## Part a\n",
    "\n",
    "Minimize $x$\n",
    "\n",
    "s.t. $x \\leq 1$ and $x \\geq3$\n",
    "\n",
    "In this case, there is no solution because the constraints require that $x\\leq 1$ and that $x \\geq 3$ at the same time.\n",
    "\n",
    "## Part b\n",
    "\n",
    "Minimize $x+y$ s.t. $x+y=1$\n",
    "\n",
    "In this case the objective is maximized at $1$ but, $x$ and $y$ are not uniquely determined so long as they satisfy the constraint.\n",
    "\n",
    "\n",
    "## Part c\n",
    "\n",
    "Minimize $x$ s.t. $x\\geq 2$\n",
    "\n",
    "The solution is $x=2$ since any other solution would be bigger than 2 and a solution smaller than 2 would violate the constraint."
   ]
  },
  {
   "cell_type": "markdown",
   "metadata": {},
   "source": [
    "# Question 3\n",
    "\n",
    "$l_i \\in \\Pi_n $\n",
    "\n",
    "Where\n",
    "\n",
    "$L_{i,j}(x_i) = \\prod_{k=0,k \\neq j}^n \\dfrac{x-x_k}{x_j-x_k} $\n",
    "\n",
    "\n",
    "$l_i = \\sum_j y_j L_{n,j}(x)$\n",
    "\n",
    "We end up with \n",
    "\n",
    "https://math.stackexchange.com/questions/501407/lagrange-basis-functions-as-bases-of-polynomials-space"
   ]
  },
  {
   "cell_type": "markdown",
   "metadata": {},
   "source": [
    "# Question 4\n",
    "\n",
    "\n",
    "Given this constraint we can use the Kuhn Tucker conditions to find the optimum\n",
    "\n",
    "Minimize $x_1^2 + x_2^2 +x_3^2$ s.t. $1- x_1 - x_2 \\leq 0$ and $x_3 -1 =0$ \n",
    "\n",
    "(1) $\\nabla L(x, \\lambda) = 0 $ \n",
    "\n",
    "This means that at the maximum\n",
    "\n",
    "$x_1 - \\lambda = 0$ and $x_2 - \\lambda = 0$ \n",
    "\n",
    "\n",
    "Combining these conditions we get \n",
    "\n",
    "(1') that $x_1 = x_2$\n",
    "\n",
    "Checking the complimentary slackness conditions, we see that either\n",
    "\n",
    "(2) $\\lambda >0$ and $1- x_1 - x_2 = 0$ \n",
    "\n",
    "or (3) $\\lambda =0$ and $1- x_1 - x_2 \\leq 0$\n",
    "\n",
    "We first check to see what happens if (3) holds and the constraint is slack. In this case, $x_1 = x_2 =0$ violating the constraint.\n",
    "\n",
    "As a result, (2) must hold so, $x_1 + x_2 = 1$. Using (1') we get that $2x_1 = 1$ and $x_1 = .5$ and $x_2 =.5$\n",
    "\n",
    "\n",
    "(4) Finally, we can simplify the problem using the fact that one of the constraint holds with equaility. \n",
    "$$x_3 -1 =0$$ at the optimimum, which imples that $x_3 =1$.\n"
   ]
  },
  {
   "cell_type": "markdown",
   "metadata": {},
   "source": [
    "# Question 5\n",
    "\n",
    "Note that \n",
    "\n",
    "$(x-a)(x-b)(x-c)(x-d) = abcd - (abc + acd + abd + bcd )x + (ab +ac+ ad + bc + bd + cd)x^2 - (a+b+c+d)x^3 + x^4$\n",
    "\n",
    "We use this to calculate the 4th order interpolant\n",
    "\n",
    "$\\sum_j y_j l_j(x)$\n",
    "\n",
    "Where\n",
    "\n",
    "$l_j(x) = \\prod_{m\\neq j} \\dfrac{x-.5m}{(.5j-.5m)}$"
   ]
  },
  {
   "cell_type": "code",
   "execution_count": 29,
   "metadata": {},
   "outputs": [
    {
     "name": "stdout",
     "output_type": "stream",
     "text": [
      "[0.0, 0.991916, 0.0349981, -0.219071, 0.0336275]\n",
      "0.0 0.0\n",
      "0.47942553860420367 0.479425538604203\n",
      "0.8414709848078986 0.8414709848078965\n",
      "0.9974949866040583 0.9974949866040544\n"
     ]
    }
   ],
   "source": [
    "j = 4\n",
    "xj =collect(0:4)*.5\n",
    "yj= sin.(xj)\n",
    "\n",
    "function fourth_order(a,b,c,d)\n",
    "    return [-a*b*c*d; -a*b*c - a*b*d - a*c*d - b*c*d; a*b + a*c + a*d + b*c + b*d + c*d ; -1*(a+b+c+d) ; 1]\n",
    "end\n",
    "\n",
    "\n",
    "result = zeros(j+1)\n",
    "for i=1:(j+1)\n",
    "    ms = xj[1:end .!= i]\n",
    "    lj = fourth_order(ms[1],ms[2],ms[3],ms[4])\n",
    "    for m=1:(j+1)\n",
    "        if m !=i\n",
    "            lj = 1/(xj[i] - xj[m]) .*lj\n",
    "        end\n",
    "    end\n",
    "    result = result + yj[i].*lj\n",
    "end\n",
    "\n",
    "println(result)\n",
    "\n",
    "#double check that this is right\n",
    "for i=1:j\n",
    "    xs = [1, xj[i], xj[i]^2, xj[i]^3,  xj[i]^4 ]\n",
    "    println( sum(xs .* result), \" \", yj[i])\n",
    "end\n"
   ]
  },
  {
   "cell_type": "markdown",
   "metadata": {},
   "source": [
    "# Question 6"
   ]
  },
  {
   "cell_type": "code",
   "execution_count": 62,
   "metadata": {},
   "outputs": [
    {
     "name": "stdout",
     "output_type": "stream",
     "text": [
      "[0.0, -6.66134e-16, -2.10942e-15, -3.88578e-15, -6.43929e-15]\n"
     ]
    },
    {
     "data": {
      "text/plain": [
       "Results of Nonlinear Solver Algorithm\n",
       " * Algorithm: Trust-region with dogleg and autoscaling\n",
       " * Starting Point: [1.0, 1.0, 1.0, 1.0, 1.0]\n",
       " * Zero: [1.87073e-14, 0.991916, 0.0349981, -0.219071, 0.0336275]\n",
       " * Inf-norm of residuals: 0.000000\n",
       " * Iterations: 2\n",
       " * Convergence: true\n",
       "   * |x - x'| < 0.0e+00: false\n",
       "   * |f(x)| < 1.0e-08: true\n",
       " * Function Calls (f): 3\n",
       " * Jacobian Calls (df/dx): 3"
      ]
     },
     "execution_count": 62,
     "metadata": {},
     "output_type": "execute_result"
    }
   ],
   "source": [
    "using NLsolve\n",
    "\n",
    "x = [1 ;2; 3; 4; 5]\n",
    "f(a,y,x) = y -(a[1] .+ a[2].*x + a[3].*x.^2+ a[4].*x.^3+ a[5].*x.^4)\n",
    "g(a) = f(a,yj,xj)\n",
    "println(g(result))\n",
    "\n",
    "\n",
    "nlsolve(g, ones(5))"
   ]
  },
  {
   "cell_type": "code",
   "execution_count": 61,
   "metadata": {},
   "outputs": [
    {
     "name": "stdout",
     "output_type": "stream",
     "text": [
      "\u001b[32m\u001b[1m Resolving\u001b[22m\u001b[39m package versions...\n",
      "\u001b[32m\u001b[1m  Updating\u001b[22m\u001b[39m `~/.julia/environments/v1.0/Project.toml`\n",
      "\u001b[90m [no changes]\u001b[39m\n",
      "\u001b[32m\u001b[1m  Updating\u001b[22m\u001b[39m `~/.julia/environments/v1.0/Manifest.toml`\n",
      "\u001b[90m [no changes]\u001b[39m\n"
     ]
    },
    {
     "data": {
      "text/plain": [
       "Results of Nonlinear Solver Algorithm\n",
       " * Algorithm: Trust-region with dogleg and autoscaling\n",
       " * Starting Point: [1.0, 1.0, 1.0, 1.0, 1.0]\n",
       " * Zero: [1.87073e-14, 0.991916, 0.0349981, -0.219071, 0.0336275]\n",
       " * Inf-norm of residuals: 0.000000\n",
       " * Iterations: 2\n",
       " * Convergence: true\n",
       "   * |x - x'| < 0.0e+00: false\n",
       "   * |f(x)| < 1.0e-08: true\n",
       " * Function Calls (f): 3\n",
       " * Jacobian Calls (df/dx): 3"
      ]
     },
     "execution_count": 61,
     "metadata": {},
     "output_type": "execute_result"
    }
   ],
   "source": [
    "#using Pkg\n",
    "#Pkg.add(\"NLsolve\")\n",
    "#\n",
    "\n"
   ]
  },
  {
   "cell_type": "code",
   "execution_count": null,
   "metadata": {},
   "outputs": [],
   "source": []
  }
 ],
 "metadata": {
  "kernelspec": {
   "display_name": "Julia 1.0.4",
   "language": "julia",
   "name": "julia-1.0"
  },
  "language_info": {
   "file_extension": ".jl",
   "mimetype": "application/julia",
   "name": "julia",
   "version": "1.0.4"
  }
 },
 "nbformat": 4,
 "nbformat_minor": 2
}
