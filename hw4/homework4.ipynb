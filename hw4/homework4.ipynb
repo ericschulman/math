{
 "cells": [
  {
   "cell_type": "markdown",
   "metadata": {},
   "source": [
    "# Question 1\n",
    "\n",
    "\n",
    "\n",
    "The first order necessary condition for an optimimum is\n",
    "\n",
    "$$\\nabla f(x) = 0$$\n",
    "\n",
    "Given that the Hessian is positive definite, there is a global minimum at some point $x_0$. As a result, we can solve this system of equations using Newton's method. Newton's method requires that  $[\\nabla^2 f(x_k)]^{-1}$ exists and is invertible. Given that $\\nabla f(x)$ is positive definite, we can apply Newton's method in this context. We use the following update step.\n",
    "\n",
    "$$x_{k+1} = x_k - [\\nabla^2 f(x_k)]^{-1} \\nabla f(x_k)$$\n",
    "\n",
    "Now we seek to construct our bound on  $x_{k+1} - x_0$ starting with\n",
    "\n",
    "$$|| x_{k+1} - x_0||  = ||x_k - x_0 - [\\nabla^2 f(x_k)]^{-1} \\nabla f(x_k)||$$\n",
    " \n",
    "The we use the result from part a) of the the previous home work to show that \n",
    "\n",
    "$$ || x_{k+1} - x_0|| < c_1 ||x_k - x_0||^2 $$\n",
    "\n",
    "In this case, following the previous homework\n",
    "\n",
    "$$ c_1 = || [\\nabla^2 f(\\xi)]^{-1}[\\nabla^3 f(\\xi)] ||$$\n",
    "\n",
    "Where $\\xi$ is between $x_0$ and $x_k$\n",
    "\n",
    "We use the fact that $f \\in C^3$ so, the Taylor expansion of $[\\nabla^2 f(x)]^{-1}\\nabla f(x)$ exists around $x_0$."
   ]
  },
  {
   "cell_type": "markdown",
   "metadata": {},
   "source": [
    "# Question 2\n",
    "\n",
    "## Part a\n",
    "\n",
    "Minimize $x$\n",
    "\n",
    "s.t. $x \\leq 1$ and $x \\geq3$\n",
    "\n",
    "In this case, there is no solution because the constraints require that $x\\leq 1$ and that $x \\geq 3$ at the same time.\n",
    "\n",
    "## Part b\n",
    "\n",
    "Minimize $x+y$ s.t. $x+y=1$\n",
    "\n",
    "In this case the objective is maximized at $1$ but, $x$ and $y$ are not uniquely determined so long as they satisfy the constraint.\n",
    "\n",
    "\n",
    "## Part c\n",
    "\n",
    "Minimize $x$ s.t. $x\\geq 2$\n",
    "\n",
    "The solution is $x=2$ since any other solution would be bigger than 2 and a solution smaller than 2 would violate the constraint."
   ]
  },
  {
   "cell_type": "markdown",
   "metadata": {},
   "source": [
    "# Question 3\n",
    "\n",
    "$l_j \\in \\Pi_n $ is defined as,\n",
    "\n",
    "$$l_{j}(x) = \\prod_{k=0, k \\neq j}^n \\dfrac{x-x_k}{x_j-x_k} $$\n",
    "\n",
    "\n",
    "We want to show that  $l_{j}(x)$ form a basis for polynomial space $\\Pi_n$\n",
    "\n",
    "Suppose, that \n",
    "\n",
    "$\\sum_n y_j l_j(x) = 0$\n",
    "\n",
    "It suffices to show that $y_1=  ...  = y_n = 0$\n",
    "\n",
    "To show this, start by evalulating this expression at $x = x_j$ i.e.\n",
    "\n",
    "$$\\sum_n y_j l_j(x_j) = 0$$\n",
    "\n",
    "By construction of the Lagrange polynomial,\n",
    "\n",
    "$$g_j(a_k) = 0$ if $i \\neq j$ and $g_j(a_k) = 1$ if $i=j$$\n",
    "\n",
    "As a result, we can see that $y_1=  ...  = y_n = 0$"
   ]
  },
  {
   "cell_type": "markdown",
   "metadata": {},
   "source": [
    "# Question 4\n",
    "\n",
    "We solve the following problem using the Kuhn Tucker conditions:\n",
    "\n",
    "Minimize $x_1^2 + x_2^2 +x_3^2$ s.t. $1- x_1 - x_2 \\leq 0$ and $x_3 -1 =0$ \n",
    "\n",
    "(1) $\\nabla L(x, \\lambda) = 0 $ \n",
    "\n",
    "This means that at the maximum\n",
    "\n",
    "$x_1 - \\lambda = 0$ and $x_2 - \\lambda = 0$ \n",
    "\n",
    "\n",
    "Combining these conditions we get \n",
    "\n",
    "(1') that $x_1 = x_2$\n",
    "\n",
    "Checking the complimentary slackness conditions, we see that either\n",
    "\n",
    "(2) $\\lambda >0$ and $1- x_1 - x_2 = 0$ \n",
    "\n",
    "or (3) $\\lambda =0$ and $1- x_1 - x_2 \\leq 0$\n",
    "\n",
    "We first check to see what happens if (3) holds and the constraint is slack. In this case, $x_1 = x_2 =0$ violating the constraint.\n",
    "\n",
    "As a result, (2) must hold so, $x_1 + x_2 = 1$. Using (1') we get that $2x_1 = 1$ and $x_1 = .5$ and $x_2 =.5$\n",
    "\n",
    "\n",
    "(4) Finally, we can simplify the problem using the fact that one of the constraint holds with equaility. \n",
    "$$x_3 -1 =0$$ at the optimimum, which imples that $x_3 =1$.\n"
   ]
  },
  {
   "cell_type": "markdown",
   "metadata": {},
   "source": [
    "# Question 5\n",
    "\n",
    "\n",
    "We calculate the 4th order interpolant numerical using Lagrange interpolation\n",
    "\n",
    "$\\sum_j y_j l_j(x)$\n",
    "\n",
    "Where\n",
    "\n",
    "$l_j(x) = \\prod_{m\\neq j} \\dfrac{x-.5m}{(.5j-.5m)}$\n",
    "\n",
    "For a polynomial with roots $a,b,c,d$ we provide the coeficients below\n",
    "\n",
    "$(x-a)(x-b)(x-c)(x-d) = abcd - (abc + acd + abd + bcd )x + (ab +ac+ ad + bc + bd + cd)x^2 - (a+b+c+d)x^3 + x^4$"
   ]
  },
  {
   "cell_type": "code",
   "execution_count": 18,
   "metadata": {},
   "outputs": [
    {
     "name": "stdout",
     "output_type": "stream",
     "text": [
      "coeffs: [0.0, 0.991916, 0.0349981, -0.219071, 0.0336275]\n",
      "interpolant: 0.0 yj: 0.0\n",
      "interpolant: 0.4794255386 yj: 0.4794255386\n",
      "interpolant: 0.8414709848 yj: 0.8414709848\n",
      "interpolant: 0.9974949866 yj: 0.9974949866\n"
     ]
    }
   ],
   "source": [
    "j = 4\n",
    "xj =collect(0:4)*.5\n",
    "yj= sin.(xj)\n",
    "\n",
    "\n",
    "#calculate the coefficients given roots are a,b,c,d\n",
    "function fourth_coeff(a,b,c,d)\n",
    "    return [-a*b*c*d; -a*b*c - a*b*d - a*c*d - b*c*d;\n",
    "        a*b + a*c + a*d + b*c + b*d + c*d ; -1*(a+b+c+d) ; 1]\n",
    "end\n",
    "\n",
    "#calculate the coefficients\n",
    "function forth_order_interp(xs,ys)\n",
    "    result = zeros(j+1)\n",
    "    for i=1:(j+1)\n",
    "        roots = xs[1:end .!= i]\n",
    "        ls = fourth_coeff(roots[1],roots[2],roots[3],roots[4])\n",
    "        for m=1:(j+1)\n",
    "            if m !=i\n",
    "                ls = 1/(xs[i] - xs[m]) .*ls\n",
    "            end\n",
    "        end\n",
    "        result = result + ys[i].*ls\n",
    "    end\n",
    "    return result\n",
    "end\n",
    "\n",
    "#solve for the coefs\n",
    "result = forth_order_interp(xj,yj)\n",
    "println(\"coeffs: \", result)\n",
    "\n",
    "\n",
    "#double check that the coefficients are correct\n",
    "for i=1:j\n",
    "    xs = [1, xj[i], xj[i]^2, xj[i]^3,  xj[i]^4 ]\n",
    "    println(\"interpolant: \", round(sum(xs .* result),digits=10) , \" \", \"yj: \", round(yj[i],digits=10) )\n",
    "end\n"
   ]
  },
  {
   "cell_type": "markdown",
   "metadata": {},
   "source": [
    "# Question 6\n",
    "\n",
    "In this problem we use a Linear equation solver to find the solution to the interpolation problem. We get the same answer as above.\n",
    "\n",
    "$$X_j c = y_j$$\n",
    "\n",
    "\n",
    "Where $X = \\begin{bmatrix} 1 & x_1 & x_1 ^2 & x_1 ^3 ...\\\\\n",
    "...\\\\\n",
    "1 & x_j & x_j^2...\\\\\n",
    "\\end{bmatrix}$"
   ]
  },
  {
   "cell_type": "code",
   "execution_count": 26,
   "metadata": {},
   "outputs": [
    {
     "name": "stdout",
     "output_type": "stream",
     "text": [
      "coeffs with linear solver: [0.0, 0.991916, 0.0349981, -0.219071, 0.0336275]\n"
     ]
    }
   ],
   "source": [
    "using LinearAlgebra\n",
    "\n",
    "#set up a function that reports the error at the interpolation points\n",
    "j = 4\n",
    "xj =collect(0:4)*.5\n",
    "yj= sin.(xj)\n",
    "\n",
    "#set up the matrix of xj\n",
    "f(x) = [ones((1,j+1)); x; x.^2; x.^3; x.^4 ]\n",
    "X = Transpose(f(Transpose(xj)))\n",
    "\n",
    "c = inv(X)*yj\n",
    "println(\"coeffs with linear solver: \", c)"
   ]
  },
  {
   "cell_type": "code",
   "execution_count": null,
   "metadata": {},
   "outputs": [],
   "source": []
  }
 ],
 "metadata": {
  "kernelspec": {
   "display_name": "Julia 1.0.4",
   "language": "julia",
   "name": "julia-1.0"
  },
  "language_info": {
   "file_extension": ".jl",
   "mimetype": "application/julia",
   "name": "julia",
   "version": "1.0.4"
  }
 },
 "nbformat": 4,
 "nbformat_minor": 2
}
