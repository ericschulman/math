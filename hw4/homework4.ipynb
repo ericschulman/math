{
 "cells": [
  {
   "cell_type": "markdown",
   "metadata": {},
   "source": [
    "# Question 1\n",
    "\n",
    "The first order necessary condition is\n",
    "\n",
    "$ \\nabla f(x) =0$\n",
    "\n",
    "We can solve this using Newton's method which has quadratic convergence"
   ]
  },
  {
   "cell_type": "markdown",
   "metadata": {},
   "source": [
    "# Question 2\n",
    "\n",
    "## Part a\n",
    "\n",
    "Minimize $x$\n",
    "\n",
    "s.t. $x \\leq 1$ and $x \\geq3$\n",
    "\n",
    "In this case, there is no solution because the constraints require that $x\\leq 1$ and that $x \\geq 3$ at the same time.\n",
    "\n",
    "## Part b\n",
    "\n",
    "Minimize $x+y$ s.t. $x+y=1$\n",
    "\n",
    "In this case the objective is maximized at $1$ but, $x$ and $y$ are not uniquely determined so long as they satisfy the constraint.\n",
    "\n",
    "\n",
    "## Part c\n",
    "\n",
    "Minimize $x$ s.t. $x\\geq 2$\n",
    "\n",
    "The solution is $x=2$ since any other solution would be bigger than 2 and a solution smaller than 2 would violate the constraint."
   ]
  },
  {
   "cell_type": "markdown",
   "metadata": {},
   "source": [
    "# Question 3\n",
    "\n",
    "$l_i \\in \\Pi_n $\n",
    "\n",
    "Where\n",
    "\n",
    "$L_{i,j}(x_i) = \\prod_{k=0,k \\neq j}^n \\dfrac{x-x_k}{x_j-x_k} $\n",
    "\n",
    "\n",
    "$l_i = \\sum_j y_j L_{n,j}(x)$\n",
    "\n",
    "We end up with \n",
    "\n",
    "https://math.stackexchange.com/questions/501407/lagrange-basis-functions-as-bases-of-polynomials-space"
   ]
  },
  {
   "cell_type": "markdown",
   "metadata": {},
   "source": [
    "# Question 4\n",
    "\n",
    "\n",
    "Given this constraint we can use the Kuhn Tucker conditions to find the optimum\n",
    "\n",
    "Minimize $x_1^2 + x_2^2 +x_3^2$ s.t. $1- x_1 - x_2 \\leq 0$ and $x_3 -1 =0$ \n",
    "\n",
    "(1) $\\nabla L(x, \\lambda) = 0 $ \n",
    "\n",
    "This means that at the maximum\n",
    "\n",
    "$x_1 - \\lambda = 0$ and $x_2 - \\lambda = 0$ \n",
    "\n",
    "\n",
    "Combining these conditions we get \n",
    "\n",
    "(1') that $x_1 = x_2$\n",
    "\n",
    "Checking the complimentary slackness conditions, we see that either\n",
    "\n",
    "(2) $\\lambda >0$ and $1- x_1 - x_2 = 0$ \n",
    "\n",
    "or (3) $\\lambda =0$ and $1- x_1 - x_2 \\leq 0$\n",
    "\n",
    "We first check to see what happens if (3) holds and the constraint is slack. In this case, $x_1 = x_2 =0$ violating the constraint.\n",
    "\n",
    "As a result, (2) must hold so, $x_1 + x_2 = 1$. Using (1') we get that $2x_1 = 1$ and $x_1 = .5$ and $x_2 =.5$\n",
    "\n",
    "\n",
    "(4) Finally, we can simplify the problem using the fact that one of the constraint holds with equaility. \n",
    "$$x_3 -1 =0$$ at the optimimum, which imples that $x_3 =1$.\n"
   ]
  },
  {
   "cell_type": "markdown",
   "metadata": {},
   "source": [
    "# Question 5"
   ]
  },
  {
   "cell_type": "markdown",
   "metadata": {},
   "source": [
    "# Question 6"
   ]
  },
  {
   "cell_type": "code",
   "execution_count": null,
   "metadata": {},
   "outputs": [],
   "source": []
  }
 ],
 "metadata": {
  "kernelspec": {
   "display_name": "Julia 1.0.4",
   "language": "julia",
   "name": "julia-1.0"
  },
  "language_info": {
   "file_extension": ".jl",
   "mimetype": "application/julia",
   "name": "julia",
   "version": "1.0.4"
  }
 },
 "nbformat": 4,
 "nbformat_minor": 2
}
