{
 "cells": [
  {
   "cell_type": "markdown",
   "metadata": {},
   "source": [
    "# Question 1\n",
    "\n",
    "$u'' = sin(u'+v) +t^2$\n",
    "\n",
    "$v' =  exp(u + v)$\n",
    "\n",
    "$u(0) = u_0$ $u'(0) = \\tilde{u}_0$, $v(0) = v_0$\n",
    "\n",
    "The first equation implies that\n",
    "\n",
    "$u''' = cos(u'+v)(u'' + v') + 2t$\n",
    "\n",
    "$u'''' = -sin(u'+v)(u''+v')^2 +cos(u'+v)(u''' + v'') + 2$\n",
    "\n",
    "\n",
    "Let $w = u'$\n",
    "\n",
    "Let $x = w' = u''$\n",
    "\n",
    "Let $y = x' = u'''$\n",
    "\n",
    "\n",
    "Then, $v'' = exp(u+v)(u' + v')  = exp(u+v)(w+exp(u+v))$\n",
    "\n",
    "As a result, we get the following autonomous system of equations\n",
    "\n",
    "$v' = exp(u+v)$\n",
    "\n",
    "$w' =x$\n",
    "\n",
    "$x' = y$\n",
    "\n",
    "$y' = -sin(w+v)(x+ exp(u + v) )^2 +cos(x+v)(y + exp(u+v)(w+exp(u+v)) ) + 2$"
   ]
  },
  {
   "cell_type": "markdown",
   "metadata": {},
   "source": [
    "# Question 2\n",
    "\n",
    "\n",
    "define two approximations to the derivative\n",
    "$y_{n+1} = y_n + h(b_1 k_1 + b_2 k_2)\n",
    "\n",
    "$k_1=f(y_n)$\n",
    "\n",
    "$k_2=f(y_n+ h a k_1)$\n",
    "\n",
    "Our goal now is to determine, how to find the values $b_1, b_2, a$ that result in low error. Starting with the update equation (above) we can substitue the previously given expressions for $k_1$ and $k_2$ which yields\n",
    "\n",
    "$y_{n+1}=y_{n} + h(b_1 f(y_n) + b_2 f(y_n + h a k_1) )$\n",
    "\n",
    "We can use a two-dimensional Taylor Series to expand the $f$\n",
    "\n",
    "$f(y_n + a h k_1) = f + f' a h k_1 + ...$\n",
    "\n",
    "subsituting into the previous expression \n",
    "\n",
    "$y_{n+1} = y_n + h(b_1 f + b_2( f + f' a h k_1 + ...) )$\n",
    "\n",
    "$y_{n+1} = y_n + h(b_1 + b_2)f + h^2 b_2 a f' f + ...$\n",
    "\n",
    "\n",
    "To finish we compare this approximation with the expressionfor a Taylor Expansion of the exact solution  at $y_{n+1}$. We can do this by taking a Taylor expansion of $y_{n}$ and perturbing by $h$ so that $t = t_{n+1}$. As a result, we should get $y_{n+1}$\n",
    "\n",
    "$y_{n+1} =y_n + h y'_n + h^2 y''_n /2 + ...$\n",
    "\n",
    "\n",
    "\n",
    "Comparing this expression with our final expression for the approximation, we see that they agree up to the error terms (third order and higher) represented by the ellipsis if we define the constants,\n",
    "\n",
    "$b_1 + b_2 = 1$\n",
    "\n",
    "$a b_2 = 1/2$\n",
    "\n",
    "One solution is $a=1$, $b_2 = b_1 = 1/2$\n"
   ]
  },
  {
   "cell_type": "markdown",
   "metadata": {},
   "source": [
    "# Question 3\n",
    "\n",
    "## Stability\n",
    "\n",
    "$$y^{n+2} + 2 \\theta y^{n+1} - (1+2\\theta) y^n = 2 h (1+\\theta)) f(y^{n+1})$$\n",
    "\n",
    "The Dahlquist root condition for stability says that if\n",
    "\n",
    "$$ \\rho(z)  = z^2 + 2\\theta z - (1+2\\theta) = 0  $$ \n",
    "\n",
    "Then $z \\leq 1$\n",
    "\n",
    "Using the quadratic formula to solve for $z$, we get that \n",
    "\n",
    "$\\dfrac{-2\\theta \\pm \\sqrt{4\\theta^2 + 4 + 8 \\theta } }{ 2}$\n",
    "\n",
    "So, the roots are 1 and $-2\\theta - 1$.\n",
    "\n",
    "The first root satisfies the condition. In order to ensure that  $| 1 - 2 \\theta | \\leq 1$ we need that $\\theta \\in (-1,0]$. It is an open set because there is a double root when $\\theta = -1$\n",
    "\n",
    "\n",
    "## Error\n",
    "\n",
    "\n",
    "In this case the local trunctation error is given by\n",
    "\n",
    "$LTE = y^{n+2} + 2 \\theta y^{n+1} - (1+ 2 \\theta) y^n  - 2h(1+\\theta) f(y^{n+1})$\n",
    "\n",
    "Taking a Taylor expansion around $f(y_{n+1})$ around the point $y_n$,\n",
    "\n",
    "$LTE =  y^{n+2} + 2 \\theta y^{n+1} - (1+ 2 \\theta) y^n) - 2h(1+\\theta)[ f(y_n) + f'f(y^{n+1}/2)(y^{n+1} - y^n)/2 + O(h^2) ]$\n",
    "\n",
    "As a result, it is $O(h^2)$ if  $f'f/2 = (1+2\\theta)  = 2\\theta$ where $f$ is evaluated at $y^{n+1}$\n",
    "\n",
    "Otherwise it is $O(h)$"
   ]
  },
  {
   "cell_type": "markdown",
   "metadata": {},
   "source": [
    "# Question 4\n",
    "\n",
    "\n",
    "\n",
    "## Part 1\n",
    "\n",
    "Suppose that $\\rho(z) =0$ and the equation is homogeneous, \n",
    "\n",
    "\n",
    "Then $\\rho(\\tilde{z}) = (\\tilde{z} - z)^2 \\tilde{\\rho}(T)  $\n",
    "\n",
    "As a result,\n",
    "\n",
    "$p(T) = (T- z)^2 \\tilde{\\rho}(T) $\n",
    "\n",
    "Similarly, \n",
    "\n",
    "$\\rho(T) y_n = (T-z)^2 \\tilde{\\rho}(T)n Z^n = (T^2 - zTz + z^2) n Z^n \\tilde{\\rho}(T) =0$\n",
    "\n",
    "\n",
    "## Part 1\n",
    "\n",
    "\n",
    "$T(y_n)=y_{n+1}$\n",
    "\n",
    "If $y_n = n z^n$\n",
    "\n",
    "The it follows that $T y_n  =  (n-1) z^{n-1}$\n",
    "\n",
    "Similarly, $T^m y_n = (n+m) z^{n+m} = y_{n+m}$\n"
   ]
  },
  {
   "cell_type": "markdown",
   "metadata": {},
   "source": [
    "# Question 5\n",
    "\n",
    "You decrease by factor of 2 when going from h=0.1 to 0.05. Error from midpoint rule at y(1) should scale as $o(h^2)$ so your error should decrease by factor of 4. Hence, it is second order.\n",
    "\n",
    "When you apply the midpoint rule which has $LTE=O(h^3)$ after doing the first order Euler to get the initial values, you accumulate the errors $O(h^2)+O(h^3)+O(h^3)+...+O(h^3)=o(h^2)$ once you get to $y(1)$ starting from $y(0)$. Therefore in the end, the error at $y(1)$ from using the midpoint rule is $O(h^2)$ and hence midpoint rule is second order overall. "
   ]
  },
  {
   "cell_type": "code",
   "execution_count": 1,
   "metadata": {},
   "outputs": [],
   "source": [
    "using LinearAlgebra\n",
    "using Pkg\n",
    "using PyPlot"
   ]
  },
  {
   "cell_type": "code",
   "execution_count": 22,
   "metadata": {},
   "outputs": [
    {
     "name": "stdout",
     "output_type": "stream",
     "text": [
      "h = 0.1 error: 0.0042\n",
      "h = 0.05 error : 0.00109\n"
     ]
    }
   ],
   "source": [
    "function midpoint(f,a,b,y0,h)\n",
    "    n = Int( floor((b-a)/h) )\n",
    "    y = zeros(n+1)\n",
    "    t = zeros(n+1)\n",
    "    y[1] = y0\n",
    "    t[1] = a\n",
    "    for i = 1 : n\n",
    "        t[i+1] = t[i] + h\n",
    "        z = y[i] + h * f(y[i])/2\n",
    "        y[i+1] = y[i] + h * f(z)\n",
    "    end\n",
    "    return y,t\n",
    "end\n",
    "\n",
    "dydt(y) = y\n",
    "y1, t1 = midpoint(dydt, 0,1, 1, .1)\n",
    "y2, t2 = midpoint(dydt, 0,1, 1, 0.05)\n",
    "\n",
    "println(\"h = 0.1 error: \", round(abs(exp(1)-y1[end]),sigdigits=3))\n",
    "println(\"h = 0.05 error : \", round(abs( exp(1) - y2[end] ),sigdigits=3 ) )"
   ]
  },
  {
   "cell_type": "markdown",
   "metadata": {},
   "source": [
    "# Question 6"
   ]
  },
  {
   "cell_type": "code",
   "execution_count": 17,
   "metadata": {},
   "outputs": [
    {
     "name": "stdout",
     "output_type": "stream",
     "text": [
      "h = .1 error: 3.42\n",
      "h = 0.05 error : 910.0\n",
      "h = 0.025 error : 2.45e8\n"
     ]
    }
   ],
   "source": [
    "function midpoint(f,a,b,y0,h)\n",
    "    n = Int( floor((b-a)/h) )\n",
    "    y = zeros(n+2)\n",
    "    t = zeros(n+2)\n",
    "    y[1] = y0\n",
    "    y[2] = y0 + h * f(y[1]) #generate extra initial value with euler\n",
    "    t[1] = a\n",
    "    t[2] = a + h\n",
    "    for i = 1 : n\n",
    "        t[i+2] = t[i] + h\n",
    "        y[i+2] = 2*y[i] + 3* h * f(y[i]) - y[i+1]\n",
    "    end\n",
    "    return y,t\n",
    "end\n",
    "\n",
    "\n",
    "dydt(y) = y\n",
    "y1, t1 = midpoint(dydt, 0,1, 1, .1)\n",
    "y2, t2 = midpoint(dydt, 0,1, 1, 0.05)\n",
    "y3, t3 = midpoint(dydt, 0,1, 1, 0.025)\n",
    "\n",
    "println(\"h = 0.1 error: \", round(abs(exp(1)-y1[end]),sigdigits=3))\n",
    "println(\"h = 0.05 error : \", round(abs( exp(1) - y2[end] ),sigdigits=3 ) )\n",
    "println(\"h = 0.025 error : \", round(abs( exp(1) - y3[end] ),sigdigits=3 ) )"
   ]
  },
  {
   "cell_type": "code",
   "execution_count": null,
   "metadata": {},
   "outputs": [],
   "source": []
  }
 ],
 "metadata": {
  "kernelspec": {
   "display_name": "Julia 1.0.4",
   "language": "julia",
   "name": "julia-1.0"
  },
  "language_info": {
   "file_extension": ".jl",
   "mimetype": "application/julia",
   "name": "julia",
   "version": "1.0.4"
  }
 },
 "nbformat": 4,
 "nbformat_minor": 2
}
