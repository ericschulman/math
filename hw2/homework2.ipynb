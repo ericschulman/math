{
 "cells": [
  {
   "cell_type": "markdown",
   "metadata": {},
   "source": [
    "# Eric Schulman\n",
    "# Homework 1 - Math 387c"
   ]
  },
  {
   "cell_type": "markdown",
   "metadata": {},
   "source": [
    "## Question 1"
   ]
  },
  {
   "cell_type": "markdown",
   "metadata": {},
   "source": [
    "## Question 2\n",
    "\n",
    "\n",
    "We assume that $P(A) = \\sum_{k=0}^{n} c_k A^k$ and $\\lambda(A)$ is the set of  eigenvalues of $A$\n",
    "\n",
    "If $\\lambda$ is a eigenvalue of $A$ then $Ax=\\lambda x$. $A (Ax)= \\lambda( \\lambda x) $ and $ A (A (Ax))= \\lambda (\\lambda( \\lambda x)) $. We can multiply by as many $A$'s and $\\lambda$'s as we like. As a result, $A^k x = c_k \\lambda^ k x$ and since each term is the same $P(A)x=P(\\lambda)x$ .\n",
    "\n",
    "As a result, $P(\\lambda(A)) \\subseteq \\lambda (P(A))$\n",
    " \n",
    "Now we prove the converse, let $\\mu \\in \\lambda(P(A))$, assuming we can factor $P(A) - \\mu$ we get $P(A) - \\mu = a\\prod_{i=1}^m (A-a_i)$ where $a$ and $a_i$ are constants. Since, $P(A) - \\mu I$ is not invertible, then some matrix $A - a_i I$ is not invertible. This shows that $\\mu =P(a_i)$. Thus for some vector $w$, $Aw = a_i w$"
   ]
  },
  {
   "cell_type": "markdown",
   "metadata": {},
   "source": [
    "## Question 3"
   ]
  },
  {
   "cell_type": "markdown",
   "metadata": {},
   "source": [
    "## Question 4\n",
    "\n",
    "\n",
    "\n",
    "A Given's rotation is given by the following matrix\n",
    "\n",
    "$G(i, j, \\theta) = \n",
    "       \\begin{pmatrix}   1   & \\cdots &    0   & \\cdots &    0   & \\cdots &    0   \\\\\n",
    "                      \\vdots & \\ddots & \\vdots &        & \\vdots &        & \\vdots \\\\\n",
    "                         0   & \\cdots &    c   & \\cdots &   -s   & \\cdots &    0   \\\\\n",
    "                      \\vdots &        & \\vdots & \\ddots & \\vdots &        & \\vdots \\\\\n",
    "                         0   & \\cdots &    s   & \\cdots &    c   & \\cdots &    0   \\\\\n",
    "                      \\vdots &        & \\vdots &        & \\vdots & \\ddots & \\vdots \\\\\n",
    "                         0   & \\cdots &    0   & \\cdots &    0   & \\cdots &    1\n",
    "       \\end{pmatrix}$\n",
    "       \n",
    "Where $c = cos(\\theta)$ and $s = sin(\\theta)$.  Fixing an $i > j$, the non-zero elements of Givens matrix are given by:\n",
    "\n",
    "$g_{kk} = 1$ for $k \\neq i, j$\n",
    "\n",
    "$g_{kk} = c$ for   $k = i , j$ \n",
    "\n",
    "$g_{j i} = − g_{i j} = − s$\n",
    "\n",
    "\n",
    "Fixing $i> j$ we must choose $i =2$, and $j=1$. As a result, we get the following matrix\n",
    "\n",
    "$R = \\begin{pmatrix} cos(\\theta) & -sin(\\theta) \\\\\n",
    "sin(\\theta) & cos(\\theta) \\end{pmatrix}$\n",
    "\n",
    "So, for a 2 component vector $\\begin{pmatrix} x \\\\ y \\end{pmatrix}$ we get\n",
    "\n",
    "$Rv =  \\begin{pmatrix} cos(\\theta)x -sin(\\theta)y \\\\\n",
    "sin(\\theta)x + cos(\\theta)y \\end{pmatrix}$\n"
   ]
  },
  {
   "cell_type": "markdown",
   "metadata": {},
   "source": [
    "## Question 5"
   ]
  },
  {
   "cell_type": "code",
   "execution_count": 29,
   "metadata": {},
   "outputs": [],
   "source": [
    "using LinearAlgebra"
   ]
  },
  {
   "cell_type": "code",
   "execution_count": 28,
   "metadata": {},
   "outputs": [
    {
     "name": "stdout",
     "output_type": "stream",
     "text": [
      "[1.0 -3.59701 -0.248069; -8.06226 14.0462 2.83077; 0.0 0.830769 -0.0461538]"
     ]
    }
   ],
   "source": [
    "function householder(Q2D,k,n)\n",
    "    v = Q2D[k+1:n,k]\n",
    "    \n",
    "    alpha = -norm(v)\n",
    "    \n",
    "    if (v[1] < 0) \n",
    "        alpha = -alpha\n",
    "    end\n",
    "    \n",
    "    v[1] = v[1] - alpha\n",
    "    v = v/norm(v)        # Orthonormalize v\n",
    "    \n",
    "    Q2D[k+1:n,k+1:n] = Q2D[k+1:n,k+1:n] - 2*v*( Transpose(v)*Q2D[k+1:n,k+1:n] )\n",
    "\n",
    "    \n",
    "    Q2D[k+1,k] = alpha\n",
    "    Q2D[k+2:n,k] = zeros( n-(k+1) )\n",
    "\n",
    "    Q2D[1:n,k+1:n] = Q2D[1:n,k+1:n]-2*(Q2D[1:n,k+1:n]*v)*Transpose(v)\n",
    "    return Q2D\n",
    "end\n",
    "\n",
    "\n",
    "A = [1. 2. 3.; 4. 5. 6.; 7.  8. 9.]\n",
    "n = size(A,1)\n",
    "\n",
    "for k = 1 : n-2\n",
    "    A = householder(A,k,n)\n",
    "end\n",
    "\n",
    "print(A)"
   ]
  },
  {
   "cell_type": "markdown",
   "metadata": {},
   "source": [
    "## Question 6"
   ]
  },
  {
   "cell_type": "code",
   "execution_count": 80,
   "metadata": {},
   "outputs": [
    {
     "name": "stdout",
     "output_type": "stream",
     "text": [
      "[3.5, 6.0, 7.5, 8.0, 7.5, 6.0, 3.5][2.74808, 4.71016, 5.68441, 6.17539, 5.68441, 4.71016, 2.74808]"
     ]
    }
   ],
   "source": [
    "function conjgrad(A,b,x)\n",
    "    r = b - A*x\n",
    "    y = -r\n",
    "    z = A*y\n",
    "    s = Transpose(y)*z\n",
    "    t = (Transpose(r)*y)/s\n",
    "    x = x + t*y\n",
    "    return x,r\n",
    "end\n",
    "\n",
    "A= Tridiagonal(-1.0*ones(n-1),2*ones(n),-1.0*ones(n-1))\n",
    "n = 7\n",
    "b = ones(n)\n",
    "sol = inv(A)*b\n",
    "print(sol)\n",
    "x0 = zeros(n)\n",
    "\n",
    "x = x0\n",
    "for i=1:10\n",
    "    x,r = conjgrad(A,b,x)\n",
    "end\n",
    "\n",
    "print(x)\n",
    "\n"
   ]
  },
  {
   "cell_type": "code",
   "execution_count": null,
   "metadata": {},
   "outputs": [],
   "source": []
  },
  {
   "cell_type": "code",
   "execution_count": null,
   "metadata": {},
   "outputs": [],
   "source": []
  }
 ],
 "metadata": {
  "kernelspec": {
   "display_name": "Julia 1.0.4",
   "language": "julia",
   "name": "julia-1.0"
  },
  "language_info": {
   "file_extension": ".jl",
   "mimetype": "application/julia",
   "name": "julia",
   "version": "1.0.4"
  }
 },
 "nbformat": 4,
 "nbformat_minor": 2
}
