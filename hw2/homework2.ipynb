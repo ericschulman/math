{
 "cells": [
  {
   "cell_type": "markdown",
   "metadata": {},
   "source": [
    "# Eric Schulman\n",
    "# Homework 2 - Math 387c"
   ]
  },
  {
   "cell_type": "markdown",
   "metadata": {},
   "source": [
    "## Question 1\n",
    "\n",
    "### Part 1\n",
    "\n",
    "The matrix norm is defined as follows\n",
    "\n",
    "$$ \\|A\\| = \\sup\\{\\|Ax\\| : x\\in K^n \\text{ with }\\|x\\|= 1\\} $$\n",
    "\n",
    "Consider the following matrix in Jordan canonical form\n",
    "\n",
    "$$A = \\begin{bmatrix} 1  & 1  & 0 \\\\ 0& 1 & 1 \\\\ 0 & 0& 1  \\\\\\end{bmatrix}$$\n",
    "\n",
    "Because the matrix is in Jordan form\n",
    "\n",
    "$$A^k = \\begin{bmatrix} 1  & k & k(k-1)/2 \\\\ 0& 1 & k \\\\ 0 & 0 &1 \\end{bmatrix}$$\n",
    "\n",
    "As a result, the sup norm of this matrix would be $1+k+k(k-1)/2 = (k^2 +k)/2 +1 $. If we take $C_1 = 1$ and $C_2 = 2, we have the necssary bounds.\n",
    "\n",
    "### Part 2\n",
    "\n",
    "The inequality will not work for a symmetric $A$. If $A$ is symmetric, we can decompose it into $A^k = QDQ^{t}$ where $D$ is a diagonal matrix. As a result we can write $A^k = QD^kQ^t$. As a result, we can restrict our attention to the entries of $D$.\n",
    "\n",
    "Case 1: suppose all values $\\lambda_i$ on the diagonal of $D$ are  $\\lambda_i \\leq 1$. In this case each of the diagonal entries of $D$ will approach 0 as $k$ increases. In the case that $\\lambda_i =1$ then the entries will stay the same. As a result, $|| A^K || = ||Q D^K Q^t||$ will not grow with a factor of $n^2$ as the diagonal entries are approaching 0 or staying constant.\n",
    "\n",
    "Case 2: Suppose there is a value on the diagonal of $D$ $\\lambda_i > 1 $.  In that case, this eigenvalue will grow exponentially. As a result, $||A^k||$ will exceed,  $C_2 k^2$ for $k$ sufficiently large."
   ]
  },
  {
   "cell_type": "markdown",
   "metadata": {},
   "source": [
    "## Question 2\n",
    "\n",
    "\n",
    "We assume that $P(A) = \\sum_{k=0}^{n} c_k A^k$ and $\\lambda(A)$ is the set of  eigenvalues of $A$\n",
    "\n",
    "If $\\lambda$ is a eigenvalue of $A$ then $Ax=\\lambda x$. $A (Ax)= \\lambda( \\lambda x) $ and $ A (A (Ax))= \\lambda (\\lambda( \\lambda x)) $. We can multiply by as many $A$'s and $\\lambda$'s as we like. As a result, $A^k x = c_k \\lambda^ k x$ and since each term is the same $P(A)x=P(\\lambda)x$ .\n",
    "\n",
    "As a result, $P(\\lambda(A)) \\subseteq \\lambda (P(A))$\n",
    " \n",
    "Now we prove the converse, let $\\mu \\in \\lambda(P(A))$, assuming we can factor $P(A) - \\mu$ we get $P(A) - \\mu = a\\prod_{i=1}^m (A-a_i)$ where $a$ and $a_i$ are constants. Since, $P(A) - \\mu I$ is not invertible, then some matrix $A - a_i I$ is not invertible. This shows that $\\mu =P(a_i)$. Thus for some vector $w$, $Aw = a_i w$"
   ]
  },
  {
   "cell_type": "markdown",
   "metadata": {},
   "source": [
    "## Question 3\n",
    "\n",
    "$Px  = (I -\\dfrac{ 2 v v^T }{ (|| v ||_2)^2 } x$ \n",
    "\n",
    "$= (I - \\dfrac{2v(x - ||x||_2 e_m )^T}{ (||v||_2 )^2}x$\n",
    "\n",
    "$ = x - 2\\dfrac{v(||x||_2)^2 - ||x||x_m}{2 ( (||x||_2)^2 - ||x|| x_m }$\n",
    "\n",
    "\n",
    "$ x - v = ||x||_2e_m $"
   ]
  },
  {
   "cell_type": "markdown",
   "metadata": {},
   "source": [
    "## Question 4\n",
    "\n",
    "\n",
    "\n",
    "A Given's rotation is given by the following matrix\n",
    "\n",
    "$G(i, j, \\theta) = \n",
    "       \\begin{pmatrix}   1   & \\cdots &    0   & \\cdots &    0   & \\cdots &    0   \\\\\n",
    "                      \\vdots & \\ddots & \\vdots &        & \\vdots &        & \\vdots \\\\\n",
    "                         0   & \\cdots &    c   & \\cdots &   -s   & \\cdots &    0   \\\\\n",
    "                      \\vdots &        & \\vdots & \\ddots & \\vdots &        & \\vdots \\\\\n",
    "                         0   & \\cdots &    s   & \\cdots &    c   & \\cdots &    0   \\\\\n",
    "                      \\vdots &        & \\vdots &        & \\vdots & \\ddots & \\vdots \\\\\n",
    "                         0   & \\cdots &    0   & \\cdots &    0   & \\cdots &    1\n",
    "       \\end{pmatrix}$\n",
    "       \n",
    "Where $c = cos(\\theta)$ and $s = sin(\\theta)$.  Fixing an $i > j$, the non-zero elements of Givens matrix are given by:\n",
    "\n",
    "$g_{kk} = 1$ for $k \\neq i, j$\n",
    "\n",
    "$g_{kk} = c$ for   $k = i , j$ \n",
    "\n",
    "$g_{j i} = − g_{i j} = − s$\n",
    "\n",
    "\n",
    "Fixing $i> j$ we must choose $i =2$, and $j=1$. As a result, we get the following matrix\n",
    "\n",
    "$R = \\begin{pmatrix} cos(\\theta) & -sin(\\theta) \\\\\n",
    "sin(\\theta) & cos(\\theta) \\end{pmatrix}$\n",
    "\n",
    "So, for a 2 component vector $\\begin{pmatrix} x \\\\ y \\end{pmatrix}$ we get\n",
    "\n",
    "$Rv =  \\begin{pmatrix} cos(\\theta)x -sin(\\theta)y \\\\\n",
    "sin(\\theta)x + cos(\\theta)y \\end{pmatrix}$\n"
   ]
  },
  {
   "cell_type": "markdown",
   "metadata": {},
   "source": [
    "## Question 5\n",
    "\n",
    "We output the result after 1 householder transformation."
   ]
  },
  {
   "cell_type": "code",
   "execution_count": 1,
   "metadata": {},
   "outputs": [],
   "source": [
    "using LinearAlgebra"
   ]
  },
  {
   "cell_type": "code",
   "execution_count": 3,
   "metadata": {},
   "outputs": [
    {
     "name": "stdout",
     "output_type": "stream",
     "text": [
      "[1.0 -3.59701 -0.248069; -8.06226 14.0462 2.83077; 0.0 0.830769 -0.0461538]\n"
     ]
    }
   ],
   "source": [
    "function householder(Q2D,k,n)\n",
    "    v = Q2D[k+1:n,k]\n",
    "    \n",
    "    alpha = -norm(v)\n",
    "    \n",
    "    if (v[1] < 0) \n",
    "        alpha = -alpha\n",
    "    end\n",
    "    \n",
    "    v[1] = v[1] - alpha\n",
    "    v = v/norm(v)        # Orthonormalize v\n",
    "    \n",
    "    Q2D[k+1:n,k+1:n] = Q2D[k+1:n,k+1:n] - 2*v*( Transpose(v)*Q2D[k+1:n,k+1:n] )\n",
    "\n",
    "    \n",
    "    Q2D[k+1,k] = alpha\n",
    "    Q2D[k+2:n,k] = zeros( n-(k+1) )\n",
    "\n",
    "    Q2D[1:n,k+1:n] = Q2D[1:n,k+1:n]-2*(Q2D[1:n,k+1:n]*v)*Transpose(v)\n",
    "    return Q2D\n",
    "end\n",
    "\n",
    "\n",
    "A = [1. 2. 3.; 4. 5. 6.; 7.  8. 9.]\n",
    "n = size(A,1)\n",
    "\n",
    "for k = 1 : n-2\n",
    "    A = householder(A,k,n)\n",
    "end\n",
    "\n",
    "println(A)"
   ]
  },
  {
   "cell_type": "markdown",
   "metadata": {},
   "source": [
    "## Question 6\n",
    "\n",
    "We report the residuals at each step and the solution."
   ]
  },
  {
   "cell_type": "code",
   "execution_count": 7,
   "metadata": {},
   "outputs": [
    {
     "name": "stdout",
     "output_type": "stream",
     "text": [
      "residual on step 1: [1.0, 1.0, 1.0, 1.0, 1.0, 1.0, 1.0, 1.0, 1.0, 1.0]\n",
      "residual on step 2: [-4.0, 1.0, 1.0, 1.0, 1.0, 1.0, 1.0, 1.0, 1.0, -4.0]\n",
      "residual on step 3: [0.390244, -1.43902, 1.0, 1.0, 1.0, 1.0, 1.0, 1.0, -1.43902, 0.390244]\n",
      "residual on step 4: [-0.83684, 0.920752, -0.348444, 1.0, 1.0, 1.0, 1.0, -0.348444, 0.920752, -0.83684]\n",
      "residual on step 5: [0.482014, -0.617886, 0.982208, 0.314532, 1.0, 1.0, 0.314532, 0.982208, -0.617886, 0.482014]\n",
      "residual on step 6: [-0.379303, 0.852201, -0.252543, 1.05129, 0.626778, 0.626778, 1.05129, -0.252543, 0.852201, -0.379303]\n",
      "residual on step 7: [0.443489, -0.341142, 0.977745, 0.168461, 0.843616, 0.843616, 0.168461, 0.977745, -0.341142, 0.443489]\n",
      "residual on step 8: [-0.2302, 0.812749, -0.18967, 0.982755, 0.473257, 0.473257, 0.982755, -0.18967, 0.812749, -0.2302]\n",
      "residual on step 9: [0.423026, -0.236686, 0.926196, 0.119796, 0.734669, 0.734669, 0.119796, 0.926196, -0.236686, 0.423026]\n",
      "residual on step 10: [-0.172391, 0.76559, -0.156747, 0.901379, 0.39654, 0.39654, 0.901379, -0.156747, 0.76559, -0.172391]\n",
      "solution: [3.17708, 5.75211, 7.13718, 8.38277, 8.72692, 8.72692, 8.38277, 7.13718, 5.75211, 3.17708]\n"
     ]
    }
   ],
   "source": [
    "function conjgrad(A,b,x)\n",
    "    r = b - A*x\n",
    "    y = -r\n",
    "    z = A*y\n",
    "    s = Transpose(y)*z\n",
    "    t = (Transpose(r)*y)/s\n",
    "    x = x + t*y\n",
    "    return x,r\n",
    "end\n",
    "\n",
    "n = 10\n",
    "A= Tridiagonal(-1.0*ones(n-1),2*ones(n),-1.0*ones(n-1))\n",
    "b = ones(n)\n",
    "sol = inv(A)*b\n",
    "x0 = zeros(n)\n",
    "\n",
    "x = x0\n",
    "for i=1:10\n",
    "    x,r = conjgrad(A,b,x)\n",
    "    println(\"residual on step $(i): $(r)\")\n",
    "end\n",
    "\n",
    "println(\"solution: $(x)\")"
   ]
  },
  {
   "cell_type": "code",
   "execution_count": null,
   "metadata": {},
   "outputs": [],
   "source": []
  },
  {
   "cell_type": "code",
   "execution_count": null,
   "metadata": {},
   "outputs": [],
   "source": []
  }
 ],
 "metadata": {
  "kernelspec": {
   "display_name": "Julia 1.0.4",
   "language": "julia",
   "name": "julia-1.0"
  },
  "language_info": {
   "file_extension": ".jl",
   "mimetype": "application/julia",
   "name": "julia",
   "version": "1.0.4"
  }
 },
 "nbformat": 4,
 "nbformat_minor": 2
}
