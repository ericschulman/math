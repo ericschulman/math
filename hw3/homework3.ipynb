{
 "cells": [
  {
   "cell_type": "markdown",
   "metadata": {},
   "source": [
    "# Question 1\n",
    "\n",
    "## Part a\n",
    "\n",
    "Consider a singluar value decomposition of $A$ and $B$. We assume that both $A$ and $B$ are square matrices that are also diagonalizable.\n",
    "\n",
    "In this case $A= PD_aP^{-1}$ and $B = PD_bP^{-1}$, since $A$ and $B$ share eigenvectors then they share a change of basis.\n",
    "\n",
    "As a result $AB = PD_aP^{-1}PD_bP^{-1} = PD_aD_bP^{-1}$. Since $D_a$ and $D_b$ are diagonal matrices $D_aD_b = D_bD_a$ and we ge that $AB=  PD_bD_aP^{-1} = PD_bP^{-1}PD_aP^{-1} = BA $\n",
    "\n",
    "## Part b\n",
    "The identity matrix $I$ commutes with every matrix and has eigenvector set all of the underlying vector space $V$, but no other matrix except a multiple of the identity matrix has this property.\n"
   ]
  },
  {
   "cell_type": "markdown",
   "metadata": {},
   "source": [
    "# Question 2\n",
    "\n",
    "\n",
    "## Part a\n",
    "\n",
    "$A^{+}A = (A^TA)^{-1}A^TA = I$\n",
    "\n",
    "Since, $A^{+} = (A^TA)^{-1} A^T$\n",
    "\n",
    "## Part b\n",
    "\n",
    "Using part 1,\n",
    "\n",
    "$A^{+} A A^{+} = IA = A$\n",
    "\n",
    "## Part c\n",
    "\n",
    "when $m = n$,\n",
    "\n",
    "\n",
    "\n",
    "\n",
    "$A^{+}  = (A^TA)^{-1}A^T$\n",
    "\n",
    "Since $A$ has full rank and $A$ is square it's inverse exists, thus\n",
    "\n",
    "$A^{+}  = A^{-1}(A^T)^{-1}A^T = A^{-1}$\n",
    "\n"
   ]
  },
  {
   "cell_type": "markdown",
   "metadata": {},
   "source": [
    "# Question 3\n",
    "\n",
    "The secant method involves the following recurrence relation:\n",
    "\n",
    "\n",
    "$x_n  = x_{n-1} - f(x_{n-1}) \\dfrac{x_{n-1} - x_{n-2}}{f(x_{n-1}) - f(x_{n-2})}$\n",
    "\n",
    "\n",
    "\n",
    "Suppose $f(x) = a + bx$\n",
    "\n",
    "Then,\n",
    "\n",
    "$x_n = x_{n-1} - (a + bx_{n-1}) \\dfrac{x_{n-1} - x_{n-2}}{(a+bx_{n-1}) - (a+bx_{n-2})} $\n",
    "\n",
    "$x_n =  x_{n-1} - (a + bx_{n-1})\\dfrac{x_{n-1} - x_{n-2}}{b(x_{n-1} - x_{n-2})}$\n",
    "\n",
    "$x_n =  x_{n-1} - (a + bx_{n-1})\\dfrac{1}{b} = \\dfrac{-a}{b}$"
   ]
  },
  {
   "cell_type": "markdown",
   "metadata": {},
   "source": [
    "# Question 4\n",
    "\n",
    "## Part a\n",
    "\n",
    "Using Talyor's theorem\n",
    "\n",
    "$  x^{k+1} = F(x^k) = \\sum_{r=0} \\dfrac{(x^k-a)^{r}F^{r}(a)}{r!} = \\dfrac{(x^k-a)^{r}F^{r}(a)}{r!}$\n",
    "\n",
    "\n",
    "## Part b\n",
    "\n"
   ]
  },
  {
   "cell_type": "markdown",
   "metadata": {},
   "source": [
    "# Question 5\n",
    "\n",
    "\n",
    "Given \n",
    "\n",
    "$Ax = b$\n",
    "\n",
    "We can decompose $A = U \\Sigma V^T$\n",
    "\n",
    "So, that $x =  V \\Sigma^{-1} U^T b$ "
   ]
  },
  {
   "cell_type": "code",
   "execution_count": 55,
   "metadata": {},
   "outputs": [
    {
     "name": "stdout",
     "output_type": "stream",
     "text": [
      "[-1.0, 1.0][-1.0, 1.0]"
     ]
    }
   ],
   "source": [
    "using LinearAlgebra\n",
    "\n",
    "A = [1 2; 3 4; 5 6]\n",
    "b= [1;1;1]\n",
    "\n",
    "sol = svd(A)\n",
    "\n",
    "#print(sol.U, Diagonal(sol.S),sol.Vt)\n",
    "print(Transpose(sol.Vt)*inv(Diagonal(sol.S))*Transpose(sol.U)*b)\n",
    "\n",
    "#least squares solution\n",
    "print(inv(Transpose(A)*A)*Transpose(A)*b)"
   ]
  },
  {
   "cell_type": "markdown",
   "metadata": {},
   "source": [
    "# Question 6\n",
    "\n",
    "We use Netwon's method to solve the system \n",
    "\n",
    "$\\begin{bmatrix} (x-y)^3 - 1 \\\\ e^{x-2} +y -2 \\end{bmatrix} = \\begin{bmatrix} 0 \\\\ 0 \\end{bmatrix} $\n",
    "\n",
    "We calculate the Jacobian as\n",
    "\n",
    "$J = \\begin{bmatrix} 3(x-y)^2 & -3(x-y)^2 \\\\ e^{x-2} &1 \\end{bmatrix}$\n",
    "\n",
    "As a result, each Newton step is given by\n",
    "\n",
    "$\\begin{bmatrix} x_{n+1} \\\\ y_{n+1} \\end{bmatrix}  =  \\begin{bmatrix} x_{n} \\\\ y_{n} \\end{bmatrix} - J \\left( \\begin{bmatrix} x_{n} \\\\ y_{n} \\end{bmatrix} \\right)^{-1}  f \\left( \\begin{bmatrix} x_{n} \\\\ y_{n} \\end{bmatrix} \\right) $"
   ]
  },
  {
   "cell_type": "code",
   "execution_count": 41,
   "metadata": {},
   "outputs": [
    {
     "name": "stdout",
     "output_type": "stream",
     "text": [
      "[2.0, 1.0]"
     ]
    }
   ],
   "source": [
    "x = [1.8;  .8]\n",
    "\n",
    "f(x) = [(x[1]-x[2])^3-1 ; exp(x[1]-2) + x[2]-2 ]\n",
    "\n",
    "J(x) = [3*(x[1]-x[2])^2 -3*(x[1] - x[2])^2; exp(x[1]-2) 1]\n",
    "\n",
    "function newton(x0,func,grad)\n",
    "    x = x0 \n",
    "    for i=1:20\n",
    "        x = x - inv( grad(x) )*func(x)\n",
    "    end\n",
    "    return x\n",
    "end\n",
    "    \n",
    "print(newton(x,f,J))"
   ]
  },
  {
   "cell_type": "code",
   "execution_count": null,
   "metadata": {},
   "outputs": [],
   "source": []
  }
 ],
 "metadata": {
  "kernelspec": {
   "display_name": "Julia 1.0.4",
   "language": "julia",
   "name": "julia-1.0"
  },
  "language_info": {
   "file_extension": ".jl",
   "mimetype": "application/julia",
   "name": "julia",
   "version": "1.0.4"
  }
 },
 "nbformat": 4,
 "nbformat_minor": 2
}
