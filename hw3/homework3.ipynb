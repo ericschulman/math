{
 "cells": [
  {
   "cell_type": "markdown",
   "metadata": {},
   "source": [
    "# Question 1\n",
    "\n",
    "## Part a\n",
    "\n",
    "Consider a singluar value decomposition of $A$ and $B$. We assume that both $A$ and $B$ are square matrices that are also diagonalizable.\n",
    "\n",
    "In this case $A= PD_aP^{-1}$ and $B = PD_bP^{-1}$, since $A$ and $B$ share eigenvectors then they share a change of basis.\n",
    "\n",
    "As a result $AB = PD_aP^{-1}PD_bP^{-1} = PD_aD_bP^{-1}$. Since $D_a$ and $D_b$ are diagonal matrices $D_aD_b = D_bD_a$ and we ge that $AB=  PD_bD_aP^{-1} = PD_bP^{-1}PD_aP^{-1} = BA $\n",
    "\n",
    "## Part b\n",
    "The identity matrix $I$ commutes with every matrix and has eigenvector set all of the underlying vector space $V$, but no other matrix except a multiple of the identity matrix has this property.\n"
   ]
  },
  {
   "cell_type": "markdown",
   "metadata": {},
   "source": [
    "# Question 2\n",
    "\n",
    "\n",
    "## Part a\n",
    "\n",
    "$A^{+}A = (A^TA)^{-1}A^TA = I$\n",
    "\n",
    "Since, $A^{+} = (A^TA)^{-1} A^T$\n",
    "\n",
    "## Part b\n",
    "\n",
    "Using part 1,\n",
    "\n",
    "$A^{+} A A^{+} = IA = A$\n",
    "\n",
    "## Part c\n",
    "\n",
    "when $m = n$,\n",
    "\n",
    "\n",
    "\n",
    "\n",
    "$A^{+}  = (A^TA)^{-1}A^T$\n",
    "\n",
    "Since $A$ has full rank and $A$ is square it's inverse exists, thus\n",
    "\n",
    "$A^{+}  = A^{-1}(A^T)^{-1}A^T = A^{-1}$\n",
    "\n"
   ]
  },
  {
   "cell_type": "markdown",
   "metadata": {},
   "source": [
    "# Question 3\n",
    "\n",
    "The secant method involves the following recurrence relation:\n",
    "\n",
    "\n",
    "$x_n  = x_{n-1} - f(x_{n-1}) \\dfrac{x_{n-1} - x_{n-2}}{f(x_{n-1}) - f(x_{n-2})}$\n",
    "\n",
    "\n",
    "\n",
    "Suppose $f(x) = a + bx$\n",
    "\n",
    "Then,\n",
    "\n",
    "$x_n = x_{n-1} - (a + bx_{n-1}) \\dfrac{x_{n-1} - x_{n-2}}{(a+bx_{n-1}) - (a+bx_{n-2})} $\n",
    "\n",
    "$x_n =  x_{n-1} - (a + bx_{n-1})\\dfrac{x_{n-1} - x_{n-2}}{b(x_{n-1} - x_{n-2})}$\n",
    "\n",
    "$x_n =  x_{n-1} - (a + bx_{n-1})\\dfrac{1}{b} = \\dfrac{-a}{b}$"
   ]
  },
  {
   "cell_type": "markdown",
   "metadata": {},
   "source": [
    "# Question 4\n",
    "\n",
    "## Part a\n",
    "\n",
    "Using Talyor's theorem\n",
    "\n",
    "$  x^{k+1} = F(x^k) = \\sum_{r=0} \\dfrac{(x^k-a)^{r}F^{r}(a)}{r!} = \\dfrac{(x^k-a)^{r}F^{r}(a)}{r!}$\n",
    "\n",
    "\n",
    "## Part b\n",
    "\n"
   ]
  },
  {
   "cell_type": "markdown",
   "metadata": {},
   "source": [
    "# Question 5"
   ]
  },
  {
   "cell_type": "markdown",
   "metadata": {},
   "source": [
    "# Question 6"
   ]
  }
 ],
 "metadata": {
  "kernelspec": {
   "display_name": "Julia 1.0.4",
   "language": "julia",
   "name": "julia-1.0"
  },
  "language_info": {
   "file_extension": ".jl",
   "mimetype": "application/julia",
   "name": "julia",
   "version": "1.0.4"
  }
 },
 "nbformat": 4,
 "nbformat_minor": 2
}
