{
 "cells": [
  {
   "cell_type": "markdown",
   "metadata": {},
   "source": [
    "# Question 1\n",
    "\n",
    "$R_A = \\{\\lambda h, |y_n| \\rightarrow 0 \\text { as } n \\rightarrow 0\\}$\n",
    "\n",
    "A stabile if $A  \\supset \\{z, Re(z) < 0\\}$\n",
    "\n",
    "A-stable if the stability domain contains the entire left half plane. \n",
    "\n",
    "Linear multi-step method if\n",
    "\n",
    "$\\sum_{j=0}^s a_j y_{n+j} = h\\sum_{j=0}^sb_jf(t_{n+j},y_{n+j})$\n",
    "\n",
    "\n",
    "So, to check stability we have\n",
    "\n",
    "$\\sum_{j=0}^s a_j y_{n+j} = h \\lambda \\sum_{j=0}^s b_j y_{n+j}$\n",
    "\n",
    "So, that $|h \\lambda b_j| <1$\n",
    "\n",
    "The implicit ones have order of convergence at most 2. The trapezoidal rule has the smallest error constant amongst the A-stable linear multistep methods of order 2. "
   ]
  },
  {
   "cell_type": "markdown",
   "metadata": {},
   "source": [
    "# Question 2\n",
    "\n",
    "\n",
    "$y_{n+1} = y_n + h f(y_n) \\rightarrow y_{n+1} = h \\lambda y_n = (1+ h \\lambda) y_n$\n",
    "\n",
    "We want $|1+ h \\lambda| <1$\n",
    "\n",
    "Apply $f(x) = \\lambda x$\n",
    "\n",
    "$x^{n+1} = x^n + h(\\theta \\lambda x^n + h \\lambda(1-\\theta) x^{n+1})$\n",
    "\n",
    "$= x^n + h \\lambda \\theta x^N + h \\lambda (1-\\theta) x^{n+1}$\n",
    "\n",
    "$= (1- h \\lambda(1-\\theta)) x^{n+1} = (1+h\\lambda \\theta) x^n$\n",
    "\n",
    "$ = x^{n+1} = \\dfrac{1+h\\lambda \\theta} {1-h\\lambda(1-\\theta} x^n$\n",
    "\n",
    "If $\\theta = 0$,  then this is an implicit Euler method i.e. $y_{n+1} = y_n + h f(y_{n+1})$\n",
    "\n",
    "So, $y_{n+1} = \\dfrac{1}{1 - h \\lambda} y_n$\n",
    "\n",
    "We want $|1-h \\lambda| > 1$\n",
    "\n",
    "As a result, $|\\dfrac{1}{1 -h \\lambda}| <1 \\rightarrow 1 < |1- h \\lambda| \\rightarrow 1 < |1-z|$\n",
    "\n",
    "If $\\theta=1$, we have eulers method\n",
    "\n",
    "$|\\dfrac{1+ h \\lambda}{1}| < 1 \\rightarrow |1+z| < 1$\n"
   ]
  },
  {
   "cell_type": "markdown",
   "metadata": {},
   "source": [
    "# Question 3\n"
   ]
  },
  {
   "cell_type": "markdown",
   "metadata": {},
   "source": [
    "# Question 4\n",
    "\n",
    "$u' = u + v$ $0 = v-1$\n",
    "\n",
    "So, this can be simplified to \n",
    "\n",
    "$u' = u+1$\n",
    "\n",
    "$y_{n+1} = y_n + h f(y_n+1)$\n",
    "\n",
    "In this case, \n",
    "\n",
    "$y_{n+1} = y_n + h ( y_{n+1} + 1 )$\n",
    "$y_{n+1} = \\dfrac{1}{1-h}{y_n +h}$\n",
    "The equation is indexed by $n$?"
   ]
  },
  {
   "cell_type": "markdown",
   "metadata": {},
   "source": [
    "# Question 5\n",
    "\n",
    "\n",
    "$y' = y^2 0 < t < 9$\n",
    "\n",
    "$y(0) = 0.1$\n",
    "\n",
    "$y(t) = (1-t)^{-1}$"
   ]
  },
  {
   "cell_type": "code",
   "execution_count": null,
   "metadata": {},
   "outputs": [],
   "source": [
    "y_pred = y[t] + h* f(y[t])\n",
    "y[i+1]= y[t] + .5*h*(f(y[t]) + f(y_pred))\n",
    "\n"
   ]
  },
  {
   "cell_type": "code",
   "execution_count": null,
   "metadata": {},
   "outputs": [],
   "source": []
  }
 ],
 "metadata": {
  "kernelspec": {
   "display_name": "Julia 1.0.4",
   "language": "julia",
   "name": "julia-1.0"
  },
  "language_info": {
   "file_extension": ".jl",
   "mimetype": "application/julia",
   "name": "julia",
   "version": "1.0.4"
  }
 },
 "nbformat": 4,
 "nbformat_minor": 2
}
