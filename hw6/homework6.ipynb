{
 "cells": [
  {
   "cell_type": "markdown",
   "metadata": {},
   "source": [
    "# Question 1\n",
    "\n",
    "\n",
    "$f(x) = 2x$ if $2x < 3 -x$\n",
    "\n",
    "As a result,  $f(x) = 2x$ when $x<1$\n",
    "\n",
    "Similarly, $f(x) = 3-x$ when $x \\geq 1$\n",
    "\n",
    "As a result, get that\n",
    "\n",
    "$f(x) = ReLU([1-x]) +RelU([2x-2]) + 2\n",
    "\n",
    "If $x<1$ then the $ReLU()$ function maps $f(x)$ to $f(x) = 2x$ since $1-x <0$. Similarly, if $x\\geq1$ then $ReLU()$ function maps $f(x)$ to $3-x$"
   ]
  },
  {
   "cell_type": "markdown",
   "metadata": {},
   "source": [
    "# Question 2\n",
    "\n",
    "We can use an artificual neural network. Each node in the nueral network computes a ReLU funciton. Each node has takes the nodes in the previous layer as inputs using a linear map. We can estimate these paramters using stochastic gradient descent."
   ]
  },
  {
   "cell_type": "markdown",
   "metadata": {},
   "source": [
    "# Question 3\n",
    "\n",
    "* To compute the formula, first we find the Legendre polynomial $P_n(x)$. In this case,\n",
    "\n",
    "$$P_2(x) = 1/2 (3x^2 -1) $$\n",
    "\n",
    "* Next, we find the roots of $P_n(x)$ in (−1,1); these will be our nodes $x1,...,xn$. In this case the roots are\n",
    "\n",
    "$x_1 = 1/\\sqrt{3}$ and $x_2 = 1/\\sqrt{3}$\n",
    "\n",
    "* Third, we find the Lagrange polynomial that interpolates the integrand $f(x)$ at $x_1,...,x_n$. In this case, we get that\n",
    "\n",
    "In this case that polynomial is\n",
    "\n",
    "$$f(x_1)(x-x_2)/(x_1-x_2) + f(x_2)(x-x_1)/(x_2-x_1) $$\n",
    "\n",
    "\n",
    "\n",
    "* Finally, we integrate the Lagrange polynomial to determine the weights $w1,...$ and we get\n",
    "\n",
    "$$ \\int_{-1}^{1} f(x_1)(x-x_2)/(x_1-x_2) + f(x_2)(x-x_1)/(x_2-x_1) = $$\n",
    "\n",
    "$$f(x_1)(x^2/2 - x_2x)/(x_1-x_2) + f(x_2)(x^2/2-x_1x)/(x_2-x_1) |_{-1}^{1} = $$\n",
    "\n",
    "$$f(x_1)(1/2 - x_2)/(x_1-x_2) + f(x_2)(1/2 -x_1)/(x_2-x_1) - [f(x_1)(1/2 + x_2)/(x_1-x_2) + f(x_2)(1/2 +x_1x)/(x_2-x_1)] = $$\n",
    "\n",
    "\n",
    "$$f( 1/\\sqrt{3} )+ f( 1/\\sqrt{3})$$"
   ]
  },
  {
   "cell_type": "markdown",
   "metadata": {},
   "source": [
    "# Question 4\n",
    "\n",
    "The formula for a Chebychev polynomial is given by\n",
    "\n",
    "\n",
    "$$T_n(x) =\\begin{cases}\n",
    "\\cos\\big(n \\arccos x \\big), & \\text{if }|x| \\le 1 \\\\\n",
    "\\cosh\\big(n \\operatorname{arcosh} x \\big), & \\text{if }x \\ge 1 \\\\ \n",
    "(-1)^n \\cosh\\big(n \\operatorname{arcosh} (-x) \\big), & \\text{if }x \\le -1  \n",
    "\\end{cases} $$\n",
    "\n",
    "\n",
    "Since $cos(x)$ bounded between 1 and -1, we can see from the formula that $T_n(x)$ must be bounded between -1 and 1 on the interval $[-1,1]$"
   ]
  },
  {
   "cell_type": "markdown",
   "metadata": {},
   "source": [
    "# Question 5\n",
    "\n",
    "The Haar wavelet's mother wavelet function is given by\n",
    "\n",
    "$$\\psi(t) = \\begin{cases}\n",
    "  1 & 0 \\leq  t < \\frac{1}{2},\\\\\n",
    " -1 & \\frac{1}{2} \\leq t < 1,\\\\\n",
    "  0 &\\text{otherwise.} \\end{cases}$$\n",
    "  \n",
    "Use wavelets with support larger than or equal to 1/4 together with one shape function with\n",
    "support of length 2\n",
    "\n",
    "$$ \\psi_{n,k}(t) = 2^{n / 2} \\psi(2^n t-k)$$\n",
    "\n",
    "As a result we can compute the continuous Wavelet transform for $f(x)$\n",
    "\n",
    "$$F_w(a,b)=\\frac{1}{|a|^{1/2}} \\int_{-\\infty}^{\\infty} f(x)\\overline\\psi\\left(\\frac{x-b}{a}\\right)\\, dx$$\n",
    "\n",
    "In this case, we discretize the interval $[-1,1]$ into 8 pieces and compute a discrete Haar transform."
   ]
  },
  {
   "cell_type": "code",
   "execution_count": 17,
   "metadata": {},
   "outputs": [
    {
     "data": {
      "text/plain": [
       "8-element Array{Float64,1}:\n",
       " -4.0 \n",
       "  1.0 \n",
       "  1.0 \n",
       " -1.0 \n",
       "  0.25\n",
       "  0.25\n",
       " -0.25\n",
       " -0.25"
      ]
     },
     "execution_count": 17,
     "metadata": {},
     "output_type": "execute_result"
    }
   ],
   "source": [
    "H = [ 1 1 1 1 1 1 1 1 ; 1 1 1 1 -1 -1 -1 -1 ; 1 1 -1 -1 0 0 0 0  ; 0 0 0 0 1 1 -1 -1 ; 1 -1 0 0 0 0 0 0  ; 0 0 1 -1 0 0 0 0 ; 0 0 0 0 1 -1 0 0  ; 0 0 0 0 0 0 1 -1 ]\n",
    "f(x) = abs.(x) .- 1\n",
    "x = f(collect(-1:.25:.75))\n",
    "\n",
    "H*x"
   ]
  },
  {
   "cell_type": "code",
   "execution_count": 22,
   "metadata": {},
   "outputs": [
    {
     "name": "stderr",
     "output_type": "stream",
     "text": [
      "┌ Info: Recompiling stale cache file /home/erichschulman/.julia/compiled/v1.0/PyPlot/oatAj.ji for PyPlot [d330b81b-6aea-500a-939a-2ce795aea3ee]\n",
      "└ @ Base loading.jl:1190\n"
     ]
    }
   ],
   "source": [
    "using Pkg\n",
    "using FFTW\n",
    "using PyPlot"
   ]
  },
  {
   "cell_type": "code",
   "execution_count": null,
   "metadata": {},
   "outputs": [],
   "source": []
  }
 ],
 "metadata": {
  "kernelspec": {
   "display_name": "Julia 1.0.3",
   "language": "julia",
   "name": "julia-1.0"
  },
  "language_info": {
   "file_extension": ".jl",
   "mimetype": "application/julia",
   "name": "julia",
   "version": "1.0.3"
  }
 },
 "nbformat": 4,
 "nbformat_minor": 2
}
