{
 "cells": [
  {
   "cell_type": "markdown",
   "metadata": {},
   "source": [
    "# Question 1\n",
    "\n",
    "\n",
    "$f(x) = 2x$ if $2x < 3 -x$\n",
    "\n",
    "As a result,  $f(x) = 2x$ when $x<1$\n",
    "\n",
    "Similarly, $f(x) = 3-x$ when $x \\geq 1$\n",
    "\n",
    "As a result, get that\n",
    "\n",
    "$f(x) = ReLU([1-x]) +RelU([2x-2]) + 2$\n",
    "\n",
    "If $x<1$ then the $ReLU()$ function maps $f(x)$ to $f(x) = 2x$ since $1-x <0$. Similarly, if $x\\geq1$ then $ReLU()$ function maps $f(x)$ to $3-x$"
   ]
  },
  {
   "cell_type": "markdown",
   "metadata": {},
   "source": [
    "# Question 2\n",
    "\n",
    "We can use an artificual neural network. Each node in the nueral network computes a ReLU funciton. Each node has takes the nodes in the previous layer as inputs using a linear map. We can estimate these paramters using stochastic gradient descent."
   ]
  },
  {
   "cell_type": "markdown",
   "metadata": {},
   "source": [
    "# Question 3\n",
    "\n",
    "* To compute the formula, first we find the Legendre polynomial $P_n(x)$. In this case,\n",
    "\n",
    "$$P_2(x) = 1/2 (3x^2 -1) $$\n",
    "\n",
    "* Next, we find the roots of $P_n(x)$ in (−1,1); these will be our nodes $x1,...,xn$. In this case the roots are\n",
    "\n",
    "$x_1 = 1/\\sqrt{3}$ and $x_2 = 1/\\sqrt{3}$\n",
    "\n",
    "* Third, we find the Lagrange polynomial that interpolates the integrand $f(x)$ at $x_1,...,x_n$. In this case, we get that\n",
    "\n",
    "In this case that polynomial is\n",
    "\n",
    "$$f(x_1)(x-x_2)/(x_1-x_2) + f(x_2)(x-x_1)/(x_2-x_1) $$\n",
    "\n",
    "\n",
    "\n",
    "* Finally, we integrate the Lagrange polynomial to determine the weights $w1,...$ and we get\n",
    "\n",
    "$$ \\int_{-1}^{1} f(x_1)(x-x_2)/(x_1-x_2) + f(x_2)(x-x_1)/(x_2-x_1) = $$\n",
    "\n",
    "$$f(x_1)(x^2/2 - x_2x)/(x_1-x_2) + f(x_2)(x^2/2-x_1x)/(x_2-x_1) |_{-1}^{1} = $$\n",
    "\n",
    "$$f(x_1)(1/2 - x_2)/(x_1-x_2) + f(x_2)(1/2 -x_1)/(x_2-x_1) - [f(x_1)(1/2 + x_2)/(x_1-x_2) + f(x_2)(1/2 +x_1x)/(x_2-x_1)] = $$\n",
    "\n",
    "\n",
    "$$f( 1/\\sqrt{3} )+ f( 1/\\sqrt{3})$$"
   ]
  },
  {
   "cell_type": "markdown",
   "metadata": {},
   "source": [
    "# Question 4\n",
    "\n",
    "The formula for a Chebychev polynomial is given by\n",
    "\n",
    "\n",
    "$$T_n(x) = \\cos\\big(k \\arccos x \\big)$$\n",
    "\n",
    "Where $|x| \\leq 1 $$. Since $cos(x)$ bounded between 1 and -1, we can see from the formula that $T_n(x)$ must be bounded between -1 and 1 on the interval $[-1,1]$ \n",
    "\n",
    "We can see that it achieves these bounds by solving for the minimum and maximum.\n",
    "\n",
    "Taking the derivative we get \n",
    "\n",
    "$$\\dfrac{\\partial T_n(x)}{\\partial x} = -sin(k arcos(x)) \\dfrac{-k}{\\sqrt{1-x^2}} $$\n",
    "\n",
    "So the extremum occur when $-sin(k arcos(x)) =0$. This occurs when $x= cos(n\\pi/k)$. We can see this evaluates to 1 and -1 depending on whether $n$ is odd or even."
   ]
  },
  {
   "cell_type": "markdown",
   "metadata": {},
   "source": [
    "# Question 5\n",
    "\n",
    "The Haar wavelet's mother wavelet function is given by\n",
    "\n",
    "$$\\psi_1(t) = \\begin{cases}\n",
    "  1 & 0 \\leq  t < \\frac{1}{2},\\\\\n",
    " -1 & \\frac{1}{2} \\leq t < 1,\\\\\n",
    "  0 &\\text{otherwise.} \\end{cases}$$\n",
    "  \n",
    "We wavelets with support larger than or equal to 1/4 together with one shape function with\n",
    "support of length 2. In this case, our shape function has support of 2\n",
    "\n",
    "Here $\\text{1}$ is the indicator function. We compute the basis below. We can solve for the coefficients using the following formula\n",
    "\n",
    "$$F_w(a,b)= {|a|^{1/2}} \\int_{-\\infty}^{\\infty} f(t)\\overline\\psi\\left( {at} - b\\right)\\, dt$$\n",
    "\n",
    "$$F_w(a,b) = {|a|^{1/2}} \\left( \\int_{-1}^{0} (1+t) \\psi(at-b)dt  +  \\int_{0}^{1} (1-t) \\psi(ax-b)dt \\right) $$\n",
    "\n",
    "$$F_w(a,b) = {|a|^{1/2}} \\left(\\int_{-1}^{0} (1+t) \\psi(at-b)dx  +  \\int_{0}^{1} (1-t) \\psi(ax-b)dt \\right) $$\n",
    "\n",
    "For, $\\psi_1(t)$ We can see that $F_w(1,0) = 0$ from the formula above\n",
    "\n",
    "If, $\\psi_2(t) = \\sqrt(2) \\psi_1(2t-1)$  then \n",
    "\n",
    "$$F_w(2,-1) = {|2|^{1/2}} \\left( \\int_{-1}^{0} (1+t) \\psi(2t-1)dt  \\right) =  {|2|^{1/2}} \\left( \\int_{-1}^{-1/2} (1+t) \\psi(2t-1)dt + \\int_{-1/2}^{0} -(1+t) dt \\right) = -.25 $$\n",
    "\n",
    "Similarly,, $\\psi_3(t) = \\sqrt(2) \\psi_1(2t+1)$ then $F_w(2,1) = .25$\n",
    "\n",
    "\n",
    "$\\psi_5(t) =  2 \\psi_1(4t+1)$ then $F_w(4,1) = -.0625$ \n",
    "\n",
    "$\\psi_6(t) =  2 \\psi_1(4t+2)$ then $F(4,2) = -.0625$\n",
    "\n",
    "$\\psi_7(t) =  2 \\psi_1(4t-1)$ then $F(4,-1) = .0625$\n",
    "\n",
    "$\\psi_8(t) =  2 \\psi_1(4t-2)$ then $F(4,-2) = .0625$\n",
    "\n",
    "\n"
   ]
  },
  {
   "cell_type": "code",
   "execution_count": 22,
   "metadata": {},
   "outputs": [
    {
     "name": "stderr",
     "output_type": "stream",
     "text": [
      "┌ Info: Recompiling stale cache file /home/erichschulman/.julia/compiled/v1.0/PyPlot/oatAj.ji for PyPlot [d330b81b-6aea-500a-939a-2ce795aea3ee]\n",
      "└ @ Base loading.jl:1190\n"
     ]
    }
   ],
   "source": [
    "using Pkg\n",
    "using FFTW\n",
    "using PyPlot"
   ]
  },
  {
   "cell_type": "code",
   "execution_count": null,
   "metadata": {},
   "outputs": [],
   "source": [
    "for N =[4,16]\n",
    "    n=N\n",
    "    T=0.1\n",
    "\n",
    "    u0=zeros(N,1)\n",
    "    u0(N/4:3*N/4)=1\n",
    "end"
   ]
  }
 ],
 "metadata": {
  "kernelspec": {
   "display_name": "Julia 1.0.4",
   "language": "julia",
   "name": "julia-1.0"
  },
  "language_info": {
   "file_extension": ".jl",
   "mimetype": "application/julia",
   "name": "julia",
   "version": "1.0.4"
  }
 },
 "nbformat": 4,
 "nbformat_minor": 2
}
