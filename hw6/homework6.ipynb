{
 "cells": [
  {
   "cell_type": "markdown",
   "metadata": {},
   "source": [
    "# Question 1\n",
    "\n",
    "\n",
    "$f(x) = 2x$ if $2x < 3 -x$\n",
    "\n",
    "As a result,  $f(x) = 2x$ when $x<1$\n",
    "\n",
    "Similarly, $f(x) = 3-x$ when $x \\geq 1$\n",
    "\n",
    "As a result, get that\n",
    "\n",
    "$f(x) = ReLU([1-x]) +RelU([2x-2]) + 2\n",
    "\n",
    "If $x<1$ then the $ReLU()$ function maps $f(x)$ to $f(x) = 2x$ since $1-x <0$. Similarly, if $x\\geq1$ then $ReLU()$ function maps $f(x)$ to $3-x$"
   ]
  },
  {
   "cell_type": "markdown",
   "metadata": {},
   "source": [
    "# Question 2\n",
    "\n",
    "We can use an artificual neural network. Each node in the nueral network computes a ReLU funciton. Each node has takes the nodes in the previous layer as inputs using a linear map. We can estimate these paramters using stochastic gradient descent."
   ]
  },
  {
   "cell_type": "markdown",
   "metadata": {},
   "source": [
    "# Question 3\n",
    "\n",
    "ind the Legendre polynomialPn(x).•Find the roots ofPn(x) in (−1,1); these will be our nodesx1,...,xn(and so the quadraturerule will be an “open” rule).•Find the Lagrange polynomial that interpolates the integrandf(x) atx1,...,xn.•Integrate the Lagrange polynomial to determine the weightsw1,...,w"
   ]
  }
 ],
 "metadata": {
  "kernelspec": {
   "display_name": "Julia 1.0.4",
   "language": "julia",
   "name": "julia-1.0"
  },
  "language_info": {
   "file_extension": ".jl",
   "mimetype": "application/julia",
   "name": "julia",
   "version": "1.0.4"
  }
 },
 "nbformat": 4,
 "nbformat_minor": 2
}
