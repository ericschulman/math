{
 "cells": [
  {
   "cell_type": "markdown",
   "metadata": {},
   "source": [
    "# Question 1\n",
    "\n",
    "\n",
    "$f(x) = RelU( [ (3-x) -2x, 2x - (3-3x) ] )$\n",
    "\n",
    "$f(x) = 2x$ if $2x < 3 -x$\n",
    "\n",
    "As a result,  $f(x) = 2x$ when $x<1$\n",
    "\n",
    "Similarly, $f(x) = 3-x$ when $x \\geq 1$\n",
    "\n",
    "As a result, get that\n",
    "\n",
    "$f(x) = -2*RELU(1-x) -1 +  -3*RELU(1-x) -4$\n"
   ]
  },
  {
   "cell_type": "markdown",
   "metadata": {},
   "source": [
    "# Question 2"
   ]
  },
  {
   "cell_type": "code",
   "execution_count": null,
   "metadata": {},
   "outputs": [],
   "source": []
  }
 ],
 "metadata": {
  "kernelspec": {
   "display_name": "Julia 1.0.4",
   "language": "julia",
   "name": "julia-1.0"
  },
  "language_info": {
   "file_extension": ".jl",
   "mimetype": "application/julia",
   "name": "julia",
   "version": "1.0.4"
  }
 },
 "nbformat": 4,
 "nbformat_minor": 2
}
