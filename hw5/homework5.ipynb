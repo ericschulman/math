{
 "cells": [
  {
   "cell_type": "code",
   "execution_count": 7,
   "metadata": {},
   "outputs": [],
   "source": [
    "using LinearAlgebra\n",
    "using Pkg\n",
    "using Distributions\n",
    "using PyPlot"
   ]
  },
  {
   "cell_type": "markdown",
   "metadata": {},
   "source": [
    "# Question 1\n",
    "\n",
    "\n",
    "Given the following data of a funciton, we want to find the quadratic spline with 4 knots.\n",
    "\n",
    "$$(x,y) = (0,0), (1,1), (2,2), (3,1), (4,0)$$\n",
    "\n",
    "\n",
    "$S_{2,4}(x) =\n",
    "\\begin{cases} a_1 + b_1x + c_1 x^2 &x \\in [0,1) \\\\\n",
    "a_2 + b_2x + c_2 x^2 &x \\in [1,2) \\\\\n",
    "a_3 + b_3x + c_3 x^2  &x \\in [2,3)\\\\\n",
    "a_4 + b_4x + c_4 x^2  &x \\in [3,4]\\\\\n",
    "\\end{cases}$\n",
    "   \n",
    "   \n",
    "Since $S_{2,4}(x)$ interpolates the data, we need\n",
    "\n",
    "* $a_1 = 0$\n",
    "* $a_1 + b_1 + c_1 = 1$\n",
    "* $a_2 + b_2 + c_2 =1$\n",
    "* $a_2 + b_2 2 + c_2 4 = 2$\n",
    "* $a_3 + b_3 2 + c_3 4 = 2 $\n",
    "* $a_3 + b_3 3 + c_3 9=  1 $\n",
    "* $a_4 + b_4 3 + c_4 9 = 1 $\n",
    "* $a_4+ b_44 +c_416 = 0$\n",
    "\n",
    "To ensure the spline is differentiable we need\n",
    "\n",
    "* $ b_1 + 2c_1 =  b_2 + 2 c_2 $\n",
    "* $ b_3  + 4c_3  = b_2  + 4c_2  $\n",
    "* $ b_3 + 6c_3  =  b_4 + 6 c_4$\n",
    "\n",
    "We focus on the natural spline where \n",
    "\n",
    "$c_1 = 0$\n",
    "\n",
    "We solve the system of equations below"
   ]
  },
  {
   "cell_type": "code",
   "execution_count": 55,
   "metadata": {
    "scrolled": false
   },
   "outputs": [
    {
     "data": {
      "image/png": "[encoded data removed]",
      "text/plain": [
       "Figure(PyObject <Figure size 640x480 with 1 Axes>)"
      ]
     },
     "metadata": {},
     "output_type": "display_data"
    },
    {
     "name": "stdout",
     "output_type": "stream",
     "text": [
      "[0.0, 1.0, 0.0, 0.0, 1.0, 0.0, -8.0, 9.0, -2.0, 28.0, -15.0, 2.0]\n"
     ]
    },
    {
     "data": {
      "text/plain": [
       "1-element Array{PyCall.PyObject,1}:\n",
       " PyObject <matplotlib.lines.Line2D object at 0x7f599019eba8>"
      ]
     },
     "execution_count": 55,
     "metadata": {},
     "output_type": "execute_result"
    }
   ],
   "source": [
    "X = [1 0 0 0 0 0 0 0 0 0 0 0; 1 1 1 0 0 0 0 0 0 0 0 0; 0 0 0 1 1 1 0 0 0 0 0 0;\n",
    "    0 0 0 1 2 4 0 0 0 0 0 0;  0 0 0 0 0 0 1 2 4 0 0 0; 0 0 0 0 0 0 1 3 9 0 0 0;\n",
    "    0 0 0 0 0 0  0 0 0 1 3 9;  0 0 0 0 0 0 0 0 0 1 4 16; \n",
    "    0 1 2 0 -1 -2 0 0 0 0 0 0; 0 0 0 0 1 4 0 -1 -4 0 0 0 ; 0 0 0 0 0 0 0 1 6 0 -1 -6 \n",
    "    ; 0 0 1 0 0 0 0 0 0 0 0 0 ]\n",
    "\n",
    "y = [0; 1; 1; 2; 2; 1; 1; 0; 0; 0; 0; 0]\n",
    "\n",
    "C = inv(X)y\n",
    "println(C)\n",
    "\n",
    "function spline(x,knots,coefs)\n",
    "    num_knots = length(knots)\n",
    "    for i=1:(num_knots-1)\n",
    "        if x <= knots[i+1]\n",
    "            return coefs[3*(i-1)+1] + x*coefs[3*(i-1)+2] + x^2*coefs[3*(i-1)+3]\n",
    "        end\n",
    "    end\n",
    "    return coefs[end-2] + x*coefs[end-1] +x^2*coefs[end]\n",
    "    \n",
    "end\n",
    "\n",
    "ys = []\n",
    "xs = []\n",
    "\n",
    "for x=0:.1:4\n",
    "    y = spline(x,[0;1;2;3;4],C)\n",
    "    xs = append!([x],xs)\n",
    "    ys = append!([y],ys)\n",
    "end\n",
    "\n",
    "plot(xs, ys)"
   ]
  },
  {
   "cell_type": "markdown",
   "metadata": {},
   "source": [
    "# Question 2\n",
    "\n",
    "We use the following approximation for an integral $\\int_0^1 f(x)dx$,\n",
    "\n",
    "$$\\int_0^1 f(x) dx = w_1 f(0) + w_2 f(x_1)$$\n",
    "\n",
    "We construct 3 equations using polynomial expressions of $x$. \n",
    "\n",
    "* If $f(x) = x^0$ we get, that (1) $w_1 + w_2 = 1$\n",
    "* If $f(x) = x$ we get that (2) $\\int_0^1 x dx = \\dfrac{1}{2} = w_2 x_1$\n",
    "* Finally, if $f(x) = x^2$ we get (3) $\\int_0^1 x^2 dx = \\dfrac{1}{3} = w_2 x_1^2$\n",
    "\n",
    "So, solving the solution to these three equations we get that $w_1 = 3/4$, $w_2=1/4$ and $x_1=2/3$\n",
    "\n",
    "The quadrature formula is thus\n",
    "\n",
    "$$\\int_0^1 f(x)dx = 3/4 + 1/4f(2/3)$$\n",
    " "
   ]
  },
  {
   "cell_type": "markdown",
   "metadata": {},
   "source": [
    "# Question 3\n",
    "\n"
   ]
  },
  {
   "cell_type": "markdown",
   "metadata": {},
   "source": [
    "# Question 4\n",
    "\n",
    "https://math.stackexchange.com/questions/1518195/richardsons-extrapolation-of-composite-trapezoidal-rule"
   ]
  },
  {
   "cell_type": "code",
   "execution_count": 7,
   "metadata": {},
   "outputs": [
    {
     "name": "stdout",
     "output_type": "stream",
     "text": [
      "23.113072006694348-12.4522880267773924.150762675592464\n",
      "42.40679236167227811.3004743203531182.171365813331588\n",
      "82.060303820721682422.175266620838131.9448076404048171\n",
      "161.88873374285868543.921939932927331.8315437169043527\n",
      "321.803367967455672287.414554012685131.7749127089880012\n",
      "641.7607899404197667174.3995987390691.7465972647411316\n",
      "1281.7395271448683143348.36964231499591.7324395463511635\n",
      "2561.7289023017592382696.30971799640971.7253606873895462\n",
      "5121.72359151888230321392.18986649124421.721821257923325\n",
      "10241.7209365371139182783.95016276626851.720051543191123\n"
     ]
    }
   ],
   "source": [
    "f(x) = exp(x)\n",
    "\n",
    "function trapezint(f,a,b,N)\n",
    "    h=(b-a)/N\n",
    "    sum=(f(a)+f(b))/2\n",
    "    for k=1:N\n",
    "        sum = sum + f(a+k*h)\n",
    "    end\n",
    "    return sum*h\n",
    "end\n",
    "\n",
    "last = 0\n",
    "for k=1:10\n",
    "    N = 2^k\n",
    "    intval = trapezint(f, 0.0, 1.0, N)\n",
    "    println(N, intval, N*N*(last-intval), (4*intval-last)/3)\n",
    "    last=intval\n",
    "end"
   ]
  },
  {
   "cell_type": "markdown",
   "metadata": {},
   "source": [
    "# Question 5\n",
    "\n",
    "Let \n",
    "\n",
    "$$A=\\{ (x,y):x2+y2 \\leq 1 \\} $$\n",
    "\n",
    "We want to compute the Area(A) using Monte Carlo Integration. Since, A is circle centered at the origin and of radius 1, we know that the answer is $\\pi$ and is given by the following integral\n",
    "\n",
    "$$Area(A)=\\int_A dx dy$$\n",
    "\n",
    "If $X \\sim U(−1,1)$ and $Y \\sim U(−1,1)$ are independent random variables with the joint density given by 1/4 i.e. $f_{X,Y}(x,y)=1/4$ for $−1 \\leq x,y \\leq 1$\n",
    "\n",
    "Let B be the square $−1 \\leq x,y \\leq 1$. Then we can think of the Area(A)\n",
    "\n",
    "$$Area(A)=4P(X,Y∈A)=4\\int_B \\textbf{1}_A f_{X,Y} dx dy = 4E[\\textbf{1}_A]$$"
   ]
  },
  {
   "cell_type": "code",
   "execution_count": 2,
   "metadata": {},
   "outputs": [
    {
     "name": "stdout",
     "output_type": "stream",
     "text": [
      "n: 100, monte carlo pi: 3.28\n",
      "n: 400, monte carlo pi: 3.13\n",
      "n: 1600, monte carlo pi: 3.1725\n"
     ]
    }
   ],
   "source": [
    "for n=[100,400,1600]\n",
    "    draws = rand(Uniform(-1,1), 2,n)\n",
    "    inside_disc = 1 .*(draws[1,:].^2 + draws[2,:].^2 .<= 1)\n",
    "    println(\"n: $(n), monte carlo pi: $(4*sum(inside_disc)/n)\")\n",
    "end"
   ]
  },
  {
   "cell_type": "markdown",
   "metadata": {},
   "source": [
    "# Question 6\n",
    "\n",
    "We solve for the gradient analytically and then stochastic gradient descent to find the optimimum\n",
    "\n",
    "$$\\nabla f_1 = \\begin{bmatrix} 2x- 2 &  2y \\end{bmatrix}$$\n",
    "$$\\nabla f_2 = \\begin{bmatrix} 2x+ 2 &  2y \\end{bmatrix}$$\n",
    "$$\\nabla f_3 = \\begin{bmatrix} 2x &  2y -2\\end{bmatrix}$$\n",
    "$$\\nabla f_4 = \\begin{bmatrix} 2x &  2y +2\\end{bmatrix}$$"
   ]
  },
  {
   "cell_type": "code",
   "execution_count": 112,
   "metadata": {},
   "outputs": [
    {
     "name": "stdout",
     "output_type": "stream",
     "text": [
      "[0.167067, 0.181745]"
     ]
    }
   ],
   "source": [
    "obj = 0 \n",
    "obj_grad = 0\n",
    "alpha = .2\n",
    "obj_grads(x) = [2x[1]-2 2*x[2]; 2x[1]+2 2*x[2] ; 2x[1] 2*x[2]-2 ; 2x[1] 2*x[2]+2 ]\n",
    "\n",
    "x = [5,5]\n",
    "for i=1:10\n",
    "    index = rand(1:4)\n",
    "    test = false\n",
    "    \n",
    "    if test\n",
    "        println(\"pre update \", x)\n",
    "        println(obj_grads(x))\n",
    "        println(index)\n",
    "        println(obj_grads(x)[index,:])\n",
    "        \n",
    "\n",
    "    end\n",
    "    x = x - alpha*(obj_grads(x)[index,:])\n",
    "    \n",
    "    if test\n",
    "        println(\"update \",x)\n",
    "        println(\"----\")\n",
    "    end\n",
    "end\n",
    "\n",
    "print(x)"
   ]
  },
  {
   "cell_type": "code",
   "execution_count": null,
   "metadata": {},
   "outputs": [],
   "source": []
  }
 ],
 "metadata": {
  "kernelspec": {
   "display_name": "Julia 1.0.4",
   "language": "julia",
   "name": "julia-1.0"
  },
  "language_info": {
   "file_extension": ".jl",
   "mimetype": "application/julia",
   "name": "julia",
   "version": "1.0.4"
  }
 },
 "nbformat": 4,
 "nbformat_minor": 2
}
