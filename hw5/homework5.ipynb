{
 "cells": [
  {
   "cell_type": "code",
   "execution_count": 1,
   "metadata": {},
   "outputs": [],
   "source": [
    "using LinearAlgebra\n",
    "using Pkg\n",
    "using Distributions"
   ]
  },
  {
   "cell_type": "markdown",
   "metadata": {},
   "source": [
    "# Question 1"
   ]
  },
  {
   "cell_type": "markdown",
   "metadata": {},
   "source": [
    "# Question 2"
   ]
  },
  {
   "cell_type": "code",
   "execution_count": null,
   "metadata": {},
   "outputs": [],
   "source": []
  },
  {
   "cell_type": "markdown",
   "metadata": {},
   "source": [
    "# Question 5\n",
    "\n",
    "Let \n",
    "\n",
    "$$A=\\{ (x,y):x2+y2 \\leq 1 \\} $$\n",
    "\n",
    "We want to compute the Area(A) using Monte Carlo Integration. Since, A is circle centered at the origin and of radius 1, we know that the answer is $\\pi$ and is given by the following integral\n",
    "\n",
    "$$Area(A)=\\int_A dx dy$$\n",
    "\n",
    "If $X \\sim U(−1,1)$ and $Y \\sim U(−1,1)$ are independent random variables with the joint density given by 1/4 i.e. $f_{X,Y}(x,y)=1/4$ for $−1 \\leq x,y \\leq 1$\n",
    "\n",
    "Let B be the square $−1 \\leq x,y \\leq 1$. Then we can think of the Area(A)\n",
    "\n",
    "$$Area(A)=4P(X,Y∈A)=4\\int_B \\textbf{1}_A f_{X,Y} dx dy = 4E[\\textbf{1}_A]$$"
   ]
  },
  {
   "cell_type": "code",
   "execution_count": 2,
   "metadata": {},
   "outputs": [
    {
     "name": "stdout",
     "output_type": "stream",
     "text": [
      "n: 100, monte carlo pi: 3.28\n",
      "n: 400, monte carlo pi: 3.13\n",
      "n: 1600, monte carlo pi: 3.1725\n"
     ]
    }
   ],
   "source": [
    "for n=[100,400,1600]\n",
    "    draws = rand(Uniform(-1,1), 2,n)\n",
    "    inside_disc = 1 .*(draws[1,:].^2 + draws[2,:].^2 .<= 1)\n",
    "    println(\"n: $(n), monte carlo pi: $(4*sum(inside_disc)/n)\")\n",
    "end"
   ]
  },
  {
   "cell_type": "code",
   "execution_count": null,
   "metadata": {},
   "outputs": [],
   "source": []
  }
 ],
 "metadata": {
  "kernelspec": {
   "display_name": "Julia 1.0.4",
   "language": "julia",
   "name": "julia-1.0"
  },
  "language_info": {
   "file_extension": ".jl",
   "mimetype": "application/julia",
   "name": "julia",
   "version": "1.0.4"
  }
 },
 "nbformat": 4,
 "nbformat_minor": 2
}
