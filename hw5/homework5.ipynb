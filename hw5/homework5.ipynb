{
 "cells": [
  {
   "cell_type": "code",
   "execution_count": 11,
   "metadata": {},
   "outputs": [],
   "source": [
    "using LinearAlgebra\n",
    "using Pkg\n",
    "using Distributions\n",
    "using PyPlot"
   ]
  },
  {
   "cell_type": "markdown",
   "metadata": {},
   "source": [
    "# Question 1\n",
    "\n",
    "\n",
    "Given the following data of a funciton, we want to find the quadratic spline with 4 knots.\n",
    "\n",
    "$$(x,y) = (0,0), (1,1), (2,2), (3,1), (4,0)$$\n",
    "\n",
    "\n",
    "$S_{2,4}(x) =\n",
    "\\begin{cases} a_1 + b_1x + c_1 x^2 &x \\in [0,1) \\\\\n",
    "a_2 + b_2x + c_2 x^2 &x \\in [1,2) \\\\\n",
    "a_3 + b_3x + c_3 x^2  &x \\in [2,3)\\\\\n",
    "a_4 + b_4x + c_4 x^2  &x \\in [3,4]\\\\\n",
    "\\end{cases}$\n",
    "   \n",
    "   \n",
    "Since $S_{2,4}(x)$ interpolates the data, we need\n",
    "\n",
    "* $a_1 = 0$\n",
    "* $a_1 + b_1 + c_1 = 1$\n",
    "* $a_2 + b_2 + c_2 =1$\n",
    "* $a_2 + b_2 2 + c_2 4 = 2$\n",
    "* $a_3 + b_3 2 + c_3 4 = 2 $\n",
    "* $a_3 + b_3 3 + c_3 9=  1 $\n",
    "* $a_4 + b_4 3 + c_4 9 = 1 $\n",
    "* $a_4+ b_44 +c_416 = 0$\n",
    "\n",
    "To ensure the spline is differentiable we need\n",
    "\n",
    "* $ b_1 + 2c_1 =  b_2 + 2 c_2 $\n",
    "* $ b_3  + 4c_3  = b_2  + 4c_2  $\n",
    "* $ b_3 + 6c_3  =  b_4 + 6 c_4$\n",
    "\n",
    "We focus on the natural spline where \n",
    "\n",
    "$c_1 = 0$\n",
    "\n",
    "We solve the system of equations below"
   ]
  },
  {
   "cell_type": "code",
   "execution_count": 12,
   "metadata": {
    "scrolled": false
   },
   "outputs": [
    {
     "data": {
      "image/png": "[encoded data removed]",
      "text/plain": [
       "Figure(PyObject <Figure size 640x480 with 1 Axes>)"
      ]
     },
     "metadata": {},
     "output_type": "display_data"
    },
    {
     "name": "stdout",
     "output_type": "stream",
     "text": [
      "[0.0, 1.0, 0.0, 0.0, 1.0, 0.0, -8.0, 9.0, -2.0, 28.0, -15.0, 2.0]\n"
     ]
    },
    {
     "data": {
      "text/plain": [
       "1-element Array{PyCall.PyObject,1}:\n",
       " PyObject <matplotlib.lines.Line2D object at 0x7f497ce38eb8>"
      ]
     },
     "execution_count": 12,
     "metadata": {},
     "output_type": "execute_result"
    }
   ],
   "source": [
    "X = [1 0 0 0 0 0 0 0 0 0 0 0; 1 1 1 0 0 0 0 0 0 0 0 0; 0 0 0 1 1 1 0 0 0 0 0 0;\n",
    "    0 0 0 1 2 4 0 0 0 0 0 0;  0 0 0 0 0 0 1 2 4 0 0 0; 0 0 0 0 0 0 1 3 9 0 0 0;\n",
    "    0 0 0 0 0 0  0 0 0 1 3 9;  0 0 0 0 0 0 0 0 0 1 4 16; \n",
    "    0 1 2 0 -1 -2 0 0 0 0 0 0; 0 0 0 0 1 4 0 -1 -4 0 0 0 ; 0 0 0 0 0 0 0 1 6 0 -1 -6 \n",
    "    ; 0 0 1 0 0 0 0 0 0 0 0 0 ]\n",
    "\n",
    "y = [0; 1; 1; 2; 2; 1; 1; 0; 0; 0; 0; 0]\n",
    "\n",
    "C = inv(X)y\n",
    "println(C)\n",
    "\n",
    "function spline(x,knots,coefs)\n",
    "    num_knots = length(knots)\n",
    "    for i=1:(num_knots-1)\n",
    "        if x <= knots[i+1]\n",
    "            return coefs[3*(i-1)+1] + x*coefs[3*(i-1)+2] + x^2*coefs[3*(i-1)+3]\n",
    "        end\n",
    "    end\n",
    "    return coefs[end-2] + x*coefs[end-1] +x^2*coefs[end]\n",
    "    \n",
    "end\n",
    "\n",
    "ys = []\n",
    "xs = []\n",
    "\n",
    "for x=0:.1:4\n",
    "    y = spline(x,[0;1;2;3;4],C)\n",
    "    xs = append!([x],xs)\n",
    "    ys = append!([y],ys)\n",
    "end\n",
    "\n",
    "plot(xs, ys)"
   ]
  },
  {
   "cell_type": "markdown",
   "metadata": {},
   "source": [
    "# Question 2\n",
    "\n",
    "We use the following approximation for an integral $\\int_{-1}^1 f(x)dx$,\n",
    "\n",
    "$$\\int_{-1}^1 f(x) dx = w_1 f(-1) + w_2 f(x_1)$$\n",
    "\n",
    "We construct 3 equations using polynomial expressions of $x$. \n",
    "\n",
    "* If $f(x) = x^0$ we get, that (1) $w_1 + w_2 = 2$\n",
    "* If $f(x) = x$ we get that (2) $\\int_{-1}^1 x dx = 0 = w_1x_1 + w_2 x_2$\n",
    "* $f(x) = x^2$ we get (3) $\\int_{-1}^1 x^2 dx = \\dfrac{2}{3} = w_1 x_1^2 + w_2 x_2^2 $\n",
    "* Finally, if $f(x) = x^3$ we get (4) $\\int_{-1}^1 x^2 dx = 0 = w_1x_1^3 + w_2 x_2^3 $\n",
    "\n",
    "So, solving the solution to these three equations we get that $w_1 = 1$, $w_2=1$, $x_1= \\dfrac{-1}{\\sqrt{3}}$, and $x_2= \\dfrac{1}{\\sqrt{3}}$\n",
    "\n",
    "The quadrature formula is thus\n",
    "\n",
    "$$\\int_0^1 f(x)dx = f(\\dfrac{-1}{\\sqrt{3}}) + f(\\dfrac{-1}{\\sqrt{3}})$$\n",
    " "
   ]
  },
  {
   "cell_type": "markdown",
   "metadata": {},
   "source": [
    "# Question 3\n",
    "\n",
    "\n",
    "The formula for Simpson integration is \n",
    "\n",
    "$$\\int_a^b f(x) dx \\approx \\frac{(b − a)}6[ f (a) + 4 f \\left(\\frac{a + b}{2}\\right) + f (b)]$$ \n",
    "\n",
    "\n",
    "\n",
    "\n",
    "(a) The error formula for Lagrange interpolation is\n",
    "\n",
    "$$E_n(x) = \\frac{f^{(n+1)}(\\xi)}{(n+1){!}} (x-x_0) \\cdots (x-x_n)$$\n",
    "\n",
    "$$E_n(x) = \\frac{f^{(n+1)}(\\xi)}{(n+1){!}} (x-x_0) \\cdots (x-x_n)$$\n",
    "\n",
    "When calculating the error, we note that $M=1$ forms an upper bound on the $n$th derivative of $sin(x)$ because the derivative of $sin(x)$ is $cos(x)$ and the derivative of $cos(x)$ is $-sin(x)$. As a result,\n",
    "\n",
    "$$E_n(x) = \\frac{f^{(n+1)}(\\xi)}{(n+1){!}} (x-x_0) \\cdots (x-x_n) \\leq  (x-x_0) \\cdots (x-x_n) $$\n",
    "\n",
    "We can integrate this formula over the interval to get an estimate of the errror\n",
    "\n",
    "$$E_n(x) \\approx \\int_0^1 \\cdots (x-x_n) \\cdots (x-x_n) dx$$\n",
    "\n",
    "\n",
    "(b) The error formula in the textbook is\n",
    "\n",
    "$$E_2(f) = \\dfrac{h^5}{90}f^{4}(\\xi) $$\n",
    "\n",
    "Where $h = (a-b)/n$\n",
    "\n",
    "As a result,\n",
    "\n",
    "$$h = 1/n$$\n",
    "\n",
    "And, \n",
    "\n",
    "$$E_2(sin(x)) = \\dfrac{1}{90n^5}$$\n"
   ]
  },
  {
   "cell_type": "markdown",
   "metadata": {},
   "source": [
    "# Question 4\n",
    "\n",
    "\n",
    "We compute the the integral with a step size of $h=2$ using the following formula\n",
    "\n",
    "$$N_1(h) = h\\left(\\frac{1}{2} f(a)+\\sum_{k=1}^{n-1}f(a+kh)+\\frac{1}{2} f(b)\\right)$$\n",
    "\n",
    "Then we comput the integral with a smaller step size of $h=1$\n",
    "\n",
    "$$N_1(h) = \\dfrac{h}{2} \\left(\\frac{1}{2} f(a)+\\sum_{k=1}^{2n-1}f(a+kh/2)+\\frac{1}{2} f(b)\\right)$$\n",
    "\n",
    "The extrapolated error is then given by the following formula\n",
    "\n",
    "$$\\dfrac{N_1(h) - N_1(h/2)}{h^n(2^n-1)} $$"
   ]
  },
  {
   "cell_type": "code",
   "execution_count": 9,
   "metadata": {},
   "outputs": [
    {
     "name": "stdout",
     "output_type": "stream",
     "text": [
      "h: 2, integral: 5.261362463274288, extrap. error: -21.045449853097153, extrap. integral: 7.0151499510323845\n",
      "h: 4, integral: 3.758307196843525, extrap. error: 24.048884262892216, extrap. integral: 3.257288774699937\n",
      "h: 8, integral: 3.0422017906999717, extrap. error: 45.830745993187406, extrap. integral: 2.8034999886521206\n"
     ]
    }
   ],
   "source": [
    "f(x) = exp(x)\n",
    "\n",
    "function trapezint(f,a,b,N)\n",
    "    h=(b-a)/N\n",
    "    sum=(f(a)+f(b))/2\n",
    "    for k=1:N\n",
    "        sum = sum + f(a+k*h)\n",
    "    end\n",
    "    return sum*h\n",
    "end\n",
    "\n",
    "last = 0\n",
    "for k=1:3\n",
    "    N = 2^k\n",
    "    intval = trapezint(f, -1, 1, N)\n",
    "    println(\"h: \", N, \", integral: \", intval, \", extrap. error: \", N*N*(last-intval), \",\n",
    "        extrap. integral: \", (4*intval-last)/3 )\n",
    "    last=intval\n",
    "end"
   ]
  },
  {
   "cell_type": "markdown",
   "metadata": {},
   "source": [
    "# Question 5\n",
    "\n",
    "Let \n",
    "\n",
    "$$A=\\{ (x,y):x_2+y_2 \\leq 1 \\} $$\n",
    "\n",
    "We want to compute the Area(A) using Monte Carlo Integration. Since, A is circle centered at the origin and of radius 1, we know that the answer is $\\pi$ and is given by the following integral\n",
    "\n",
    "$$Area(A)=\\int_A dx dy$$\n",
    "\n",
    "If $X \\sim U(−1,1)$ and $Y \\sim U(−1,1)$ are independent random variables with the joint density given by 1/4 i.e. $f_{X,Y}(x,y)=1/4$ for $−1 \\leq x,y \\leq 1$\n",
    "\n",
    "Let B be the square $−1 \\leq x,y \\leq 1$. Then we can think of the Area(A)\n",
    "\n",
    "$$Area(A)=4P(X,Y∈A)=4\\int_B \\textbf{1}_A f_{X,Y} dx dy = 4E[\\textbf{1}_A]$$"
   ]
  },
  {
   "cell_type": "code",
   "execution_count": 2,
   "metadata": {},
   "outputs": [
    {
     "name": "stdout",
     "output_type": "stream",
     "text": [
      "n: 100, monte carlo pi: 3.28\n",
      "n: 400, monte carlo pi: 3.13\n",
      "n: 1600, monte carlo pi: 3.1725\n"
     ]
    }
   ],
   "source": [
    "for n=[100,400,1600]\n",
    "    draws = rand(Uniform(-1,1), 2,n)\n",
    "    inside_disc = 1 .*(draws[1,:].^2 + draws[2,:].^2 .<= 1)\n",
    "    println(\"n: $(n), monte carlo pi: $(4*sum(inside_disc)/n)\")\n",
    "end"
   ]
  },
  {
   "cell_type": "markdown",
   "metadata": {},
   "source": [
    "# Question 6\n",
    "\n",
    "We solve for the gradient analytically and then stochastic gradient descent to find the optimimum\n",
    "\n",
    "$$\\nabla f_1 = \\begin{bmatrix} 2x- 2 &  2y \\end{bmatrix}$$\n",
    "$$\\nabla f_2 = \\begin{bmatrix} 2x+ 2 &  2y \\end{bmatrix}$$\n",
    "$$\\nabla f_3 = \\begin{bmatrix} 2x &  2y -2\\end{bmatrix}$$\n",
    "$$\\nabla f_4 = \\begin{bmatrix} 2x &  2y +2\\end{bmatrix}$$"
   ]
  },
  {
   "cell_type": "code",
   "execution_count": 112,
   "metadata": {},
   "outputs": [
    {
     "name": "stdout",
     "output_type": "stream",
     "text": [
      "[0.167067, 0.181745]"
     ]
    }
   ],
   "source": [
    "obj = 0 \n",
    "obj_grad = 0\n",
    "alpha = .2\n",
    "obj_grads(x) = [2x[1]-2 2*x[2]; 2x[1]+2 2*x[2] ; 2x[1] 2*x[2]-2 ; 2x[1] 2*x[2]+2 ]\n",
    "\n",
    "x = [5,5]\n",
    "for i=1:10\n",
    "    index = rand(1:4)\n",
    "    test = false\n",
    "    \n",
    "    if test\n",
    "        println(\"pre update \", x)\n",
    "        println(obj_grads(x))\n",
    "        println(index)\n",
    "        println(obj_grads(x)[index,:])\n",
    "        \n",
    "\n",
    "    end\n",
    "    x = x - alpha*(obj_grads(x)[index,:])\n",
    "    \n",
    "    if test\n",
    "        println(\"update \",x)\n",
    "        println(\"----\")\n",
    "    end\n",
    "end\n",
    "\n",
    "print(x)"
   ]
  },
  {
   "cell_type": "code",
   "execution_count": null,
   "metadata": {},
   "outputs": [],
   "source": []
  }
 ],
 "metadata": {
  "kernelspec": {
   "display_name": "Julia 1.0.3",
   "language": "julia",
   "name": "julia-1.0"
  },
  "language_info": {
   "file_extension": ".jl",
   "mimetype": "application/julia",
   "name": "julia",
   "version": "1.0.3"
  }
 },
 "nbformat": 4,
 "nbformat_minor": 2
}
